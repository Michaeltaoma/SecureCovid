{
  "nbformat": 4,
  "nbformat_minor": 0,
  "metadata": {
    "colab": {
      "name": "generate_attack_training_set.ipynb",
      "provenance": [],
      "background_execution": "on"
    },
    "kernelspec": {
      "name": "python3",
      "display_name": "Python 3"
    },
    "language_info": {
      "name": "python"
    },
    "accelerator": "GPU",
    "widgets": {
      "application/vnd.jupyter.widget-state+json": {
        "286d8c3c6efe4f1b9a99fc85e14a5998": {
          "model_module": "@jupyter-widgets/controls",
          "model_name": "HBoxModel",
          "model_module_version": "1.5.0",
          "state": {
            "_dom_classes": [],
            "_model_module": "@jupyter-widgets/controls",
            "_model_module_version": "1.5.0",
            "_model_name": "HBoxModel",
            "_view_count": null,
            "_view_module": "@jupyter-widgets/controls",
            "_view_module_version": "1.5.0",
            "_view_name": "HBoxView",
            "box_style": "",
            "children": [
              "IPY_MODEL_bff2bdeb79fc439a974ac56cc2671701",
              "IPY_MODEL_a45f6c6901554a5ab367a968f61ecc66",
              "IPY_MODEL_0913ce866dc9461f904b9f02b36744e9"
            ],
            "layout": "IPY_MODEL_db9350d83e2447ef8160f3cf0bf9ded4"
          }
        },
        "bff2bdeb79fc439a974ac56cc2671701": {
          "model_module": "@jupyter-widgets/controls",
          "model_name": "HTMLModel",
          "model_module_version": "1.5.0",
          "state": {
            "_dom_classes": [],
            "_model_module": "@jupyter-widgets/controls",
            "_model_module_version": "1.5.0",
            "_model_name": "HTMLModel",
            "_view_count": null,
            "_view_module": "@jupyter-widgets/controls",
            "_view_module_version": "1.5.0",
            "_view_name": "HTMLView",
            "description": "",
            "description_tooltip": null,
            "layout": "IPY_MODEL_8568c1e4942343d889a5dd1bca0f012c",
            "placeholder": "​",
            "style": "IPY_MODEL_a53abbdd804540b2b9951c3cc2b7d1b9",
            "value": " 97%"
          }
        },
        "a45f6c6901554a5ab367a968f61ecc66": {
          "model_module": "@jupyter-widgets/controls",
          "model_name": "FloatProgressModel",
          "model_module_version": "1.5.0",
          "state": {
            "_dom_classes": [],
            "_model_module": "@jupyter-widgets/controls",
            "_model_module_version": "1.5.0",
            "_model_name": "FloatProgressModel",
            "_view_count": null,
            "_view_module": "@jupyter-widgets/controls",
            "_view_module_version": "1.5.0",
            "_view_name": "ProgressView",
            "bar_style": "",
            "description": "",
            "description_tooltip": null,
            "layout": "IPY_MODEL_ccc817ab34eb428d84d8062d80f24ae2",
            "max": 200,
            "min": 0,
            "orientation": "horizontal",
            "style": "IPY_MODEL_ab41d0a66a3547d6a4e5a68975203f72",
            "value": 200
          }
        },
        "0913ce866dc9461f904b9f02b36744e9": {
          "model_module": "@jupyter-widgets/controls",
          "model_name": "HTMLModel",
          "model_module_version": "1.5.0",
          "state": {
            "_dom_classes": [],
            "_model_module": "@jupyter-widgets/controls",
            "_model_module_version": "1.5.0",
            "_model_name": "HTMLModel",
            "_view_count": null,
            "_view_module": "@jupyter-widgets/controls",
            "_view_module_version": "1.5.0",
            "_view_name": "HTMLView",
            "description": "",
            "description_tooltip": null,
            "layout": "IPY_MODEL_73a841cea0e246b3acf2f36c27e8c85a",
            "placeholder": "​",
            "style": "IPY_MODEL_b151db5d75c242ca835bd00cfff10850",
            "value": " 194/200 [00:02&lt;00:00, 75.22it/s]"
          }
        },
        "db9350d83e2447ef8160f3cf0bf9ded4": {
          "model_module": "@jupyter-widgets/base",
          "model_name": "LayoutModel",
          "model_module_version": "1.2.0",
          "state": {
            "_model_module": "@jupyter-widgets/base",
            "_model_module_version": "1.2.0",
            "_model_name": "LayoutModel",
            "_view_count": null,
            "_view_module": "@jupyter-widgets/base",
            "_view_module_version": "1.2.0",
            "_view_name": "LayoutView",
            "align_content": null,
            "align_items": null,
            "align_self": null,
            "border": null,
            "bottom": null,
            "display": null,
            "flex": null,
            "flex_flow": null,
            "grid_area": null,
            "grid_auto_columns": null,
            "grid_auto_flow": null,
            "grid_auto_rows": null,
            "grid_column": null,
            "grid_gap": null,
            "grid_row": null,
            "grid_template_areas": null,
            "grid_template_columns": null,
            "grid_template_rows": null,
            "height": null,
            "justify_content": null,
            "justify_items": null,
            "left": null,
            "margin": null,
            "max_height": null,
            "max_width": null,
            "min_height": null,
            "min_width": null,
            "object_fit": null,
            "object_position": null,
            "order": null,
            "overflow": null,
            "overflow_x": null,
            "overflow_y": null,
            "padding": null,
            "right": null,
            "top": null,
            "visibility": null,
            "width": null
          }
        },
        "8568c1e4942343d889a5dd1bca0f012c": {
          "model_module": "@jupyter-widgets/base",
          "model_name": "LayoutModel",
          "model_module_version": "1.2.0",
          "state": {
            "_model_module": "@jupyter-widgets/base",
            "_model_module_version": "1.2.0",
            "_model_name": "LayoutModel",
            "_view_count": null,
            "_view_module": "@jupyter-widgets/base",
            "_view_module_version": "1.2.0",
            "_view_name": "LayoutView",
            "align_content": null,
            "align_items": null,
            "align_self": null,
            "border": null,
            "bottom": null,
            "display": null,
            "flex": null,
            "flex_flow": null,
            "grid_area": null,
            "grid_auto_columns": null,
            "grid_auto_flow": null,
            "grid_auto_rows": null,
            "grid_column": null,
            "grid_gap": null,
            "grid_row": null,
            "grid_template_areas": null,
            "grid_template_columns": null,
            "grid_template_rows": null,
            "height": null,
            "justify_content": null,
            "justify_items": null,
            "left": null,
            "margin": null,
            "max_height": null,
            "max_width": null,
            "min_height": null,
            "min_width": null,
            "object_fit": null,
            "object_position": null,
            "order": null,
            "overflow": null,
            "overflow_x": null,
            "overflow_y": null,
            "padding": null,
            "right": null,
            "top": null,
            "visibility": null,
            "width": null
          }
        },
        "a53abbdd804540b2b9951c3cc2b7d1b9": {
          "model_module": "@jupyter-widgets/controls",
          "model_name": "DescriptionStyleModel",
          "model_module_version": "1.5.0",
          "state": {
            "_model_module": "@jupyter-widgets/controls",
            "_model_module_version": "1.5.0",
            "_model_name": "DescriptionStyleModel",
            "_view_count": null,
            "_view_module": "@jupyter-widgets/base",
            "_view_module_version": "1.2.0",
            "_view_name": "StyleView",
            "description_width": ""
          }
        },
        "ccc817ab34eb428d84d8062d80f24ae2": {
          "model_module": "@jupyter-widgets/base",
          "model_name": "LayoutModel",
          "model_module_version": "1.2.0",
          "state": {
            "_model_module": "@jupyter-widgets/base",
            "_model_module_version": "1.2.0",
            "_model_name": "LayoutModel",
            "_view_count": null,
            "_view_module": "@jupyter-widgets/base",
            "_view_module_version": "1.2.0",
            "_view_name": "LayoutView",
            "align_content": null,
            "align_items": null,
            "align_self": null,
            "border": null,
            "bottom": null,
            "display": null,
            "flex": null,
            "flex_flow": null,
            "grid_area": null,
            "grid_auto_columns": null,
            "grid_auto_flow": null,
            "grid_auto_rows": null,
            "grid_column": null,
            "grid_gap": null,
            "grid_row": null,
            "grid_template_areas": null,
            "grid_template_columns": null,
            "grid_template_rows": null,
            "height": null,
            "justify_content": null,
            "justify_items": null,
            "left": null,
            "margin": null,
            "max_height": null,
            "max_width": null,
            "min_height": null,
            "min_width": null,
            "object_fit": null,
            "object_position": null,
            "order": null,
            "overflow": null,
            "overflow_x": null,
            "overflow_y": null,
            "padding": null,
            "right": null,
            "top": null,
            "visibility": null,
            "width": null
          }
        },
        "ab41d0a66a3547d6a4e5a68975203f72": {
          "model_module": "@jupyter-widgets/controls",
          "model_name": "ProgressStyleModel",
          "model_module_version": "1.5.0",
          "state": {
            "_model_module": "@jupyter-widgets/controls",
            "_model_module_version": "1.5.0",
            "_model_name": "ProgressStyleModel",
            "_view_count": null,
            "_view_module": "@jupyter-widgets/base",
            "_view_module_version": "1.2.0",
            "_view_name": "StyleView",
            "bar_color": null,
            "description_width": ""
          }
        },
        "73a841cea0e246b3acf2f36c27e8c85a": {
          "model_module": "@jupyter-widgets/base",
          "model_name": "LayoutModel",
          "model_module_version": "1.2.0",
          "state": {
            "_model_module": "@jupyter-widgets/base",
            "_model_module_version": "1.2.0",
            "_model_name": "LayoutModel",
            "_view_count": null,
            "_view_module": "@jupyter-widgets/base",
            "_view_module_version": "1.2.0",
            "_view_name": "LayoutView",
            "align_content": null,
            "align_items": null,
            "align_self": null,
            "border": null,
            "bottom": null,
            "display": null,
            "flex": null,
            "flex_flow": null,
            "grid_area": null,
            "grid_auto_columns": null,
            "grid_auto_flow": null,
            "grid_auto_rows": null,
            "grid_column": null,
            "grid_gap": null,
            "grid_row": null,
            "grid_template_areas": null,
            "grid_template_columns": null,
            "grid_template_rows": null,
            "height": null,
            "justify_content": null,
            "justify_items": null,
            "left": null,
            "margin": null,
            "max_height": null,
            "max_width": null,
            "min_height": null,
            "min_width": null,
            "object_fit": null,
            "object_position": null,
            "order": null,
            "overflow": null,
            "overflow_x": null,
            "overflow_y": null,
            "padding": null,
            "right": null,
            "top": null,
            "visibility": null,
            "width": null
          }
        },
        "b151db5d75c242ca835bd00cfff10850": {
          "model_module": "@jupyter-widgets/controls",
          "model_name": "DescriptionStyleModel",
          "model_module_version": "1.5.0",
          "state": {
            "_model_module": "@jupyter-widgets/controls",
            "_model_module_version": "1.5.0",
            "_model_name": "DescriptionStyleModel",
            "_view_count": null,
            "_view_module": "@jupyter-widgets/base",
            "_view_module_version": "1.2.0",
            "_view_name": "StyleView",
            "description_width": ""
          }
        },
        "b9a9ec4a4c354fceb75d2aed5b08bd00": {
          "model_module": "@jupyter-widgets/controls",
          "model_name": "HBoxModel",
          "model_module_version": "1.5.0",
          "state": {
            "_dom_classes": [],
            "_model_module": "@jupyter-widgets/controls",
            "_model_module_version": "1.5.0",
            "_model_name": "HBoxModel",
            "_view_count": null,
            "_view_module": "@jupyter-widgets/controls",
            "_view_module_version": "1.5.0",
            "_view_name": "HBoxView",
            "box_style": "",
            "children": [
              "IPY_MODEL_79ee925b477041b7a6940ea86b282baa",
              "IPY_MODEL_87dfde0b328e4bfab2e1c937ec7df569",
              "IPY_MODEL_b38f58230dfd450ca8735c5c743e6ab1"
            ],
            "layout": "IPY_MODEL_88d5320716de43e98de37dda9b8b6a71"
          }
        },
        "79ee925b477041b7a6940ea86b282baa": {
          "model_module": "@jupyter-widgets/controls",
          "model_name": "HTMLModel",
          "model_module_version": "1.5.0",
          "state": {
            "_dom_classes": [],
            "_model_module": "@jupyter-widgets/controls",
            "_model_module_version": "1.5.0",
            "_model_name": "HTMLModel",
            "_view_count": null,
            "_view_module": "@jupyter-widgets/controls",
            "_view_module_version": "1.5.0",
            "_view_name": "HTMLView",
            "description": "",
            "description_tooltip": null,
            "layout": "IPY_MODEL_f6ebdebe3a434ecab958ba3e6ee9c28c",
            "placeholder": "​",
            "style": "IPY_MODEL_dc6cafcc381749e2adca2c73eb50cdd8",
            "value": "100%"
          }
        },
        "87dfde0b328e4bfab2e1c937ec7df569": {
          "model_module": "@jupyter-widgets/controls",
          "model_name": "FloatProgressModel",
          "model_module_version": "1.5.0",
          "state": {
            "_dom_classes": [],
            "_model_module": "@jupyter-widgets/controls",
            "_model_module_version": "1.5.0",
            "_model_name": "FloatProgressModel",
            "_view_count": null,
            "_view_module": "@jupyter-widgets/controls",
            "_view_module_version": "1.5.0",
            "_view_name": "ProgressView",
            "bar_style": "",
            "description": "",
            "description_tooltip": null,
            "layout": "IPY_MODEL_d0088a12d0b449f78c0f1adaec9edb4c",
            "max": 642,
            "min": 0,
            "orientation": "horizontal",
            "style": "IPY_MODEL_587e25b2a963450e85f01996bfd9d54c",
            "value": 642
          }
        },
        "b38f58230dfd450ca8735c5c743e6ab1": {
          "model_module": "@jupyter-widgets/controls",
          "model_name": "HTMLModel",
          "model_module_version": "1.5.0",
          "state": {
            "_dom_classes": [],
            "_model_module": "@jupyter-widgets/controls",
            "_model_module_version": "1.5.0",
            "_model_name": "HTMLModel",
            "_view_count": null,
            "_view_module": "@jupyter-widgets/controls",
            "_view_module_version": "1.5.0",
            "_view_name": "HTMLView",
            "description": "",
            "description_tooltip": null,
            "layout": "IPY_MODEL_c86b896914864e66a94b507b7f30cc1a",
            "placeholder": "​",
            "style": "IPY_MODEL_f53f64bbe9ca4f8d9f4fdf30ae987fde",
            "value": " 641/642 [00:30&lt;00:00, 11.91it/s]"
          }
        },
        "88d5320716de43e98de37dda9b8b6a71": {
          "model_module": "@jupyter-widgets/base",
          "model_name": "LayoutModel",
          "model_module_version": "1.2.0",
          "state": {
            "_model_module": "@jupyter-widgets/base",
            "_model_module_version": "1.2.0",
            "_model_name": "LayoutModel",
            "_view_count": null,
            "_view_module": "@jupyter-widgets/base",
            "_view_module_version": "1.2.0",
            "_view_name": "LayoutView",
            "align_content": null,
            "align_items": null,
            "align_self": null,
            "border": null,
            "bottom": null,
            "display": null,
            "flex": null,
            "flex_flow": null,
            "grid_area": null,
            "grid_auto_columns": null,
            "grid_auto_flow": null,
            "grid_auto_rows": null,
            "grid_column": null,
            "grid_gap": null,
            "grid_row": null,
            "grid_template_areas": null,
            "grid_template_columns": null,
            "grid_template_rows": null,
            "height": null,
            "justify_content": null,
            "justify_items": null,
            "left": null,
            "margin": null,
            "max_height": null,
            "max_width": null,
            "min_height": null,
            "min_width": null,
            "object_fit": null,
            "object_position": null,
            "order": null,
            "overflow": null,
            "overflow_x": null,
            "overflow_y": null,
            "padding": null,
            "right": null,
            "top": null,
            "visibility": null,
            "width": null
          }
        },
        "f6ebdebe3a434ecab958ba3e6ee9c28c": {
          "model_module": "@jupyter-widgets/base",
          "model_name": "LayoutModel",
          "model_module_version": "1.2.0",
          "state": {
            "_model_module": "@jupyter-widgets/base",
            "_model_module_version": "1.2.0",
            "_model_name": "LayoutModel",
            "_view_count": null,
            "_view_module": "@jupyter-widgets/base",
            "_view_module_version": "1.2.0",
            "_view_name": "LayoutView",
            "align_content": null,
            "align_items": null,
            "align_self": null,
            "border": null,
            "bottom": null,
            "display": null,
            "flex": null,
            "flex_flow": null,
            "grid_area": null,
            "grid_auto_columns": null,
            "grid_auto_flow": null,
            "grid_auto_rows": null,
            "grid_column": null,
            "grid_gap": null,
            "grid_row": null,
            "grid_template_areas": null,
            "grid_template_columns": null,
            "grid_template_rows": null,
            "height": null,
            "justify_content": null,
            "justify_items": null,
            "left": null,
            "margin": null,
            "max_height": null,
            "max_width": null,
            "min_height": null,
            "min_width": null,
            "object_fit": null,
            "object_position": null,
            "order": null,
            "overflow": null,
            "overflow_x": null,
            "overflow_y": null,
            "padding": null,
            "right": null,
            "top": null,
            "visibility": null,
            "width": null
          }
        },
        "dc6cafcc381749e2adca2c73eb50cdd8": {
          "model_module": "@jupyter-widgets/controls",
          "model_name": "DescriptionStyleModel",
          "model_module_version": "1.5.0",
          "state": {
            "_model_module": "@jupyter-widgets/controls",
            "_model_module_version": "1.5.0",
            "_model_name": "DescriptionStyleModel",
            "_view_count": null,
            "_view_module": "@jupyter-widgets/base",
            "_view_module_version": "1.2.0",
            "_view_name": "StyleView",
            "description_width": ""
          }
        },
        "d0088a12d0b449f78c0f1adaec9edb4c": {
          "model_module": "@jupyter-widgets/base",
          "model_name": "LayoutModel",
          "model_module_version": "1.2.0",
          "state": {
            "_model_module": "@jupyter-widgets/base",
            "_model_module_version": "1.2.0",
            "_model_name": "LayoutModel",
            "_view_count": null,
            "_view_module": "@jupyter-widgets/base",
            "_view_module_version": "1.2.0",
            "_view_name": "LayoutView",
            "align_content": null,
            "align_items": null,
            "align_self": null,
            "border": null,
            "bottom": null,
            "display": null,
            "flex": null,
            "flex_flow": null,
            "grid_area": null,
            "grid_auto_columns": null,
            "grid_auto_flow": null,
            "grid_auto_rows": null,
            "grid_column": null,
            "grid_gap": null,
            "grid_row": null,
            "grid_template_areas": null,
            "grid_template_columns": null,
            "grid_template_rows": null,
            "height": null,
            "justify_content": null,
            "justify_items": null,
            "left": null,
            "margin": null,
            "max_height": null,
            "max_width": null,
            "min_height": null,
            "min_width": null,
            "object_fit": null,
            "object_position": null,
            "order": null,
            "overflow": null,
            "overflow_x": null,
            "overflow_y": null,
            "padding": null,
            "right": null,
            "top": null,
            "visibility": null,
            "width": null
          }
        },
        "587e25b2a963450e85f01996bfd9d54c": {
          "model_module": "@jupyter-widgets/controls",
          "model_name": "ProgressStyleModel",
          "model_module_version": "1.5.0",
          "state": {
            "_model_module": "@jupyter-widgets/controls",
            "_model_module_version": "1.5.0",
            "_model_name": "ProgressStyleModel",
            "_view_count": null,
            "_view_module": "@jupyter-widgets/base",
            "_view_module_version": "1.2.0",
            "_view_name": "StyleView",
            "bar_color": null,
            "description_width": ""
          }
        },
        "c86b896914864e66a94b507b7f30cc1a": {
          "model_module": "@jupyter-widgets/base",
          "model_name": "LayoutModel",
          "model_module_version": "1.2.0",
          "state": {
            "_model_module": "@jupyter-widgets/base",
            "_model_module_version": "1.2.0",
            "_model_name": "LayoutModel",
            "_view_count": null,
            "_view_module": "@jupyter-widgets/base",
            "_view_module_version": "1.2.0",
            "_view_name": "LayoutView",
            "align_content": null,
            "align_items": null,
            "align_self": null,
            "border": null,
            "bottom": null,
            "display": null,
            "flex": null,
            "flex_flow": null,
            "grid_area": null,
            "grid_auto_columns": null,
            "grid_auto_flow": null,
            "grid_auto_rows": null,
            "grid_column": null,
            "grid_gap": null,
            "grid_row": null,
            "grid_template_areas": null,
            "grid_template_columns": null,
            "grid_template_rows": null,
            "height": null,
            "justify_content": null,
            "justify_items": null,
            "left": null,
            "margin": null,
            "max_height": null,
            "max_width": null,
            "min_height": null,
            "min_width": null,
            "object_fit": null,
            "object_position": null,
            "order": null,
            "overflow": null,
            "overflow_x": null,
            "overflow_y": null,
            "padding": null,
            "right": null,
            "top": null,
            "visibility": null,
            "width": null
          }
        },
        "f53f64bbe9ca4f8d9f4fdf30ae987fde": {
          "model_module": "@jupyter-widgets/controls",
          "model_name": "DescriptionStyleModel",
          "model_module_version": "1.5.0",
          "state": {
            "_model_module": "@jupyter-widgets/controls",
            "_model_module_version": "1.5.0",
            "_model_name": "DescriptionStyleModel",
            "_view_count": null,
            "_view_module": "@jupyter-widgets/base",
            "_view_module_version": "1.2.0",
            "_view_name": "StyleView",
            "description_width": ""
          }
        }
      }
    }
  },
  "cells": [
    {
      "cell_type": "code",
      "execution_count": null,
      "metadata": {
        "colab": {
          "base_uri": "https://localhost:8080/"
        },
        "id": "G56UfsHFH8EU",
        "outputId": "6fdd4647-b601-4541-984c-bad694362857"
      },
      "outputs": [
        {
          "output_type": "stream",
          "name": "stdout",
          "text": [
            "Mounted at /content/drive\n"
          ]
        }
      ],
      "source": [
        "from google.colab import drive\n",
        "\n",
        "drive.mount('/content/drive')"
      ]
    },
    {
      "cell_type": "code",
      "source": [
        "import pandas as pd\n",
        "import shutil\n",
        "import os\n",
        "\n",
        "!git clone https://github.com/ieee8023/covid-chestxray-dataset.git\n",
        "\n",
        "!unzip -q '/content/drive/MyDrive/MEDICAL/Labeled Optical Coherence Tomography (OCT) and Chest X-Ray Images for Classification.zip' -d '/content/d/'\n",
        "!unzip -q '/content/d/ChestXRay2017.zip' -d '/content/d/dd/'\n",
        "\n",
        "df = pd.read_csv('./covid-chestxray-dataset/metadata.csv')\n",
        "selected_df = df[df.finding==\"Pneumonia/Viral/COVID-19\"]\n",
        "selected_df = selected_df[(selected_df.view == \"AP\") | (selected_df.view == \"PA\")]\n",
        "\n",
        "df = pd.read_csv('./covid-chestxray-dataset/metadata.csv')\n",
        "selected_df = df[df.finding==\"Pneumonia/Viral/COVID-19\"]\n",
        "selected_df = selected_df[(selected_df.view == \"AP\") | (selected_df.view == \"PA\")]\n",
        "\n",
        "images = selected_df.filename.values.tolist()\n",
        "\n",
        "os.makedirs('./COVID19-DATASET/train/covid19')\n",
        "os.makedirs('./COVID19-DATASET/train/normal')\n",
        "\n",
        "COVID_PATH = './COVID19-DATASET/train/covid19'\n",
        "NORMAL_PATH = './COVID19-DATASET/train/normal'\n",
        "\n",
        "for image in images:\n",
        "    shutil.copy(os.path.join('./covid-chestxray-dataset/images', image), os.path.join(COVID_PATH, image))\n",
        "\n",
        "for image in os.listdir('/content/d/dd/chest_xray/train/NORMAL')[:300]:\n",
        "    shutil.copy(os.path.join('/content/d/dd/chest_xray/train/NORMAL', image), os.path.join(NORMAL_PATH, image))\n",
        "\n",
        "TRAIN_PATH = '/content/COVID19-DATASET/train'\n",
        "\n",
        "print(\"TRAIN_PATH: {}\".format(TRAIN_PATH))\n",
        "\n",
        "!unzip -q '/content/drive/MyDrive/MEDICAL/COVID-19_Radiography_Database.zip' -d '/content/covid19-radiography-database/'\n",
        "\n",
        "os.makedirs('./COVID19-DATASET/test/covid19')\n",
        "os.makedirs('./COVID19-DATASET/test/normal')\n",
        "\n",
        "COVID_TEST = '/content/covid19-radiography-database/COVID-19_Radiography_Dataset/COVID'\n",
        "NORMAL_TEST = '/content/covid19-radiography-database/COVID-19_Radiography_Dataset/Normal'\n",
        "\n",
        "for image in os.listdir(COVID_TEST)[:100]:\n",
        "    shutil.copy(os.path.join(COVID_TEST, image), os.path.join('./COVID19-DATASET/test/covid19', image))\n",
        "for image in os.listdir(NORMAL_TEST)[:100]:\n",
        "    shutil.copy(os.path.join(NORMAL_TEST, image), os.path.join('./COVID19-DATASET/test/normal', image))\n",
        "\n",
        "TEST_PATH = '/content/COVID19-DATASET/test'\n"
      ],
      "metadata": {
        "colab": {
          "base_uri": "https://localhost:8080/"
        },
        "id": "1BcZW3JSINdg",
        "outputId": "023be62d-1716-45aa-c173-9954d9e63d61"
      },
      "execution_count": null,
      "outputs": [
        {
          "output_type": "stream",
          "name": "stdout",
          "text": [
            "Cloning into 'covid-chestxray-dataset'...\n",
            "remote: Enumerating objects: 3641, done.\u001b[K\n",
            "remote: Total 3641 (delta 0), reused 0 (delta 0), pack-reused 3641\u001b[K\n",
            "Receiving objects: 100% (3641/3641), 632.96 MiB | 47.22 MiB/s, done.\n",
            "Resolving deltas: 100% (1450/1450), done.\n",
            "Checking out files: 100% (1174/1174), done.\n",
            "TRAIN_PATH: /content/COVID19-DATASET/train\n"
          ]
        }
      ]
    },
    {
      "cell_type": "code",
      "source": [
        "import sys\n",
        "!git clone https://github.com/Michaeltaoma/SecureCovid.git\n",
        "%cd SecureCovid\n",
        "!git checkout dev\n",
        "sys.path.append(\"/content/SecureCovid\")"
      ],
      "metadata": {
        "colab": {
          "base_uri": "https://localhost:8080/"
        },
        "id": "0EulZzMvIVLr",
        "outputId": "e340cdc3-26b6-4157-bbbf-ac14927fa7b4"
      },
      "execution_count": null,
      "outputs": [
        {
          "output_type": "stream",
          "name": "stdout",
          "text": [
            "Cloning into 'SecureCovid'...\n",
            "remote: Enumerating objects: 185, done.\u001b[K\n",
            "remote: Counting objects: 100% (185/185), done.\u001b[K\n",
            "remote: Compressing objects: 100% (131/131), done.\u001b[K\n",
            "remote: Total 185 (delta 89), reused 128 (delta 45), pack-reused 0\u001b[K\n",
            "Receiving objects: 100% (185/185), 64.07 KiB | 2.67 MiB/s, done.\n",
            "Resolving deltas: 100% (89/89), done.\n",
            "/content/SecureCovid\n",
            "Branch 'dev' set up to track remote branch 'dev' from 'origin'.\n",
            "Switched to a new branch 'dev'\n"
          ]
        }
      ]
    },
    {
      "cell_type": "code",
      "source": [
        "from model import pretrained\n",
        "import util\n",
        "\n",
        "import numpy as np\n",
        "\n",
        "import torch\n",
        "import torchvision\n",
        "import torch.nn as nn\n",
        "import torch.optim as optim\n",
        "from torchvision import datasets, models, transforms\n",
        "from torch.utils.data.sampler import SubsetRandomSampler\n",
        "\n",
        "import matplotlib.pyplot as plt\n",
        "import time\n",
        "import copy\n",
        "from random import shuffle\n",
        "\n",
        "import tqdm.notebook as tqdm\n",
        "\n",
        "import sklearn\n",
        "from sklearn.metrics import accuracy_score, cohen_kappa_score\n",
        "from sklearn.metrics import classification_report\n",
        "from PIL import Image\n",
        "import cv2"
      ],
      "metadata": {
        "id": "NhYTD2PrJGRp"
      },
      "execution_count": null,
      "outputs": []
    },
    {
      "cell_type": "code",
      "source": [
        "from preprocess import preprocess\n",
        "from trainer import train\n",
        "from model import covid_net\n",
        "\n",
        "trainloader, valloader, dataset_size = preprocess.load_split_train_test(TRAIN_PATH, .2, preprocess.covid_data_transforms)\n",
        "class_names = trainloader.dataset.classes\n",
        "dataloaders = {\"train\": trainloader, \"val\": valloader}\n",
        "device = torch.device(\"cuda:0\") if torch.cuda.is_available() else torch.device(\"cpu\")"
      ],
      "metadata": {
        "id": "OBOpHKpSU-09"
      },
      "execution_count": null,
      "outputs": []
    },
    {
      "cell_type": "code",
      "source": [
        "out_x = []\n",
        "out_y_label = []\n",
        "out_y_pred = []\n",
        "out = []"
      ],
      "metadata": {
        "id": "EQeRG0d0daNX"
      },
      "execution_count": null,
      "outputs": []
    },
    {
      "cell_type": "code",
      "source": [
        "print(\"Len x: {}\".format(len(out_x)))"
      ],
      "metadata": {
        "colab": {
          "base_uri": "https://localhost:8080/"
        },
        "id": "VWn4pPc2drRi",
        "outputId": "870a4188-355d-4b35-c432-5d23315e479c"
      },
      "execution_count": null,
      "outputs": [
        {
          "output_type": "stream",
          "name": "stdout",
          "text": [
            "Len x: 2526\n"
          ]
        }
      ]
    },
    {
      "cell_type": "code",
      "source": [
        "saved_path = \"/content/drive/MyDrive/MEDICAL/trained/train_sunday_morningQAQ_1647194379.8894262.pth\"\n",
        "shadow = covid_net.CovidNet(model='small', n_classes=2)\n",
        "shadow.load_state_dict(torch.load(saved_path))\n",
        "shadow = shadow.to(device)"
      ],
      "metadata": {
        "id": "weG3Xr_LcrmY"
      },
      "execution_count": null,
      "outputs": []
    },
    {
      "cell_type": "code",
      "source": [
        "def load_all_train(datadir, valid_size=0.0):\n",
        "    train_data = datasets.ImageFolder(datadir,\n",
        "                                      transform=preprocess.covid_data_transforms['train'])\n",
        "    test_data = datasets.ImageFolder(datadir,\n",
        "                                     transform=preprocess.covid_data_transforms['val'])\n",
        "    num_train = len(train_data)\n",
        "    indices = list(range(num_train))\n",
        "    split = int(np.floor(valid_size * num_train))\n",
        "    np.random.shuffle(indices)\n",
        "    train_idx, test_idx = indices[split:], indices[:split]\n",
        "    dataset_size = {\"train\": len(train_idx), \"val\": len(test_idx)}\n",
        "    train_sampler = SubsetRandomSampler(train_idx)\n",
        "    test_sampler = SubsetRandomSampler(test_idx)\n",
        "    trainloader = torch.utils.data.DataLoader(train_data,\n",
        "                                              sampler=train_sampler, batch_size=1)\n",
        "    return trainloader"
      ],
      "metadata": {
        "id": "PLawNgsGdAYi"
      },
      "execution_count": null,
      "outputs": []
    },
    {
      "cell_type": "code",
      "source": [
        "from pathlib import Path\n",
        "attack_train_set_path = Path(\"/content/drive/MyDrive/MEDICAL/attack_train\")\n",
        "\n",
        "test_images = datasets.ImageFolder(TEST_PATH, transform=preprocess.covid_test_transforms)\n",
        "testloader = torch.utils.data.DataLoader(test_images, batch_size = 1)\n",
        "\n",
        "all_train = load_all_train(TRAIN_PATH)"
      ],
      "metadata": {
        "id": "A1PFMsXAc4R3"
      },
      "execution_count": null,
      "outputs": []
    },
    {
      "cell_type": "code",
      "source": [
        "with torch.no_grad():\n",
        "    \"\"\"\n",
        "    Out-of-training-data data\n",
        "    \"\"\"\n",
        "    for x_batch, y_batch in tqdm.tqdm(testloader, leave=False):\n",
        "        x_batch, y_batch = x_batch.to(device), y_batch.to(device)\n",
        "        y_test_pred = shadow(x_batch)\n",
        "        y_test_pred = torch.log_softmax(y_test_pred, dim=1)\n",
        "        _, y_pred_tag = torch.max(y_test_pred, dim = 1)\n",
        "\n",
        "        out_x.append(x_batch.cpu().numpy())\n",
        "        out_y_pred.append(y_test_pred.cpu().numpy())\n",
        "        out_y_label.append(y_batch.cpu().numpy())\n",
        "        out.append(0)\n",
        "\n",
        "with torch.no_grad():\n",
        "    \"\"\"\n",
        "    in-training-data data\n",
        "    \"\"\"\n",
        "    for x_batch, y_batch in tqdm.tqdm(all_train, leave=False):\n",
        "        x_batch, y_batch = x_batch.to(device), y_batch.to(device)\n",
        "        y_test_pred = shadow(x_batch)\n",
        "        y_test_pred = torch.log_softmax(y_test_pred, dim=1)\n",
        "        _, y_pred_tag = torch.max(y_test_pred, dim = 1)\n",
        "\n",
        "        out_x.append(x_batch.cpu().numpy())\n",
        "        out_y_pred.append(y_test_pred.cpu().numpy())\n",
        "        out_y_label.append(y_batch.cpu().numpy())\n",
        "        out.append(1)"
      ],
      "metadata": {
        "colab": {
          "base_uri": "https://localhost:8080/",
          "height": 17,
          "referenced_widgets": [
            "286d8c3c6efe4f1b9a99fc85e14a5998",
            "bff2bdeb79fc439a974ac56cc2671701",
            "a45f6c6901554a5ab367a968f61ecc66",
            "0913ce866dc9461f904b9f02b36744e9",
            "db9350d83e2447ef8160f3cf0bf9ded4",
            "8568c1e4942343d889a5dd1bca0f012c",
            "a53abbdd804540b2b9951c3cc2b7d1b9",
            "ccc817ab34eb428d84d8062d80f24ae2",
            "ab41d0a66a3547d6a4e5a68975203f72",
            "73a841cea0e246b3acf2f36c27e8c85a",
            "b151db5d75c242ca835bd00cfff10850",
            "b9a9ec4a4c354fceb75d2aed5b08bd00",
            "79ee925b477041b7a6940ea86b282baa",
            "87dfde0b328e4bfab2e1c937ec7df569",
            "b38f58230dfd450ca8735c5c743e6ab1",
            "88d5320716de43e98de37dda9b8b6a71",
            "f6ebdebe3a434ecab958ba3e6ee9c28c",
            "dc6cafcc381749e2adca2c73eb50cdd8",
            "d0088a12d0b449f78c0f1adaec9edb4c",
            "587e25b2a963450e85f01996bfd9d54c",
            "c86b896914864e66a94b507b7f30cc1a",
            "f53f64bbe9ca4f8d9f4fdf30ae987fde"
          ]
        },
        "id": "FRB7q2VPdK0t",
        "outputId": "2073c9a7-66cb-47ac-9823-53de70b7de21"
      },
      "execution_count": null,
      "outputs": [
        {
          "output_type": "display_data",
          "data": {
            "text/plain": [
              "  0%|          | 0/200 [00:00<?, ?it/s]"
            ],
            "application/vnd.jupyter.widget-view+json": {
              "version_major": 2,
              "version_minor": 0,
              "model_id": "286d8c3c6efe4f1b9a99fc85e14a5998"
            }
          },
          "metadata": {}
        },
        {
          "output_type": "display_data",
          "data": {
            "text/plain": [
              "  0%|          | 0/642 [00:00<?, ?it/s]"
            ],
            "application/vnd.jupyter.widget-view+json": {
              "version_major": 2,
              "version_minor": 0,
              "model_id": "b9a9ec4a4c354fceb75d2aed5b08bd00"
            }
          },
          "metadata": {}
        }
      ]
    },
    {
      "cell_type": "code",
      "source": [
        "util.toPickle(out_y_label, attack_train_set_path.joinpath(\"{}.pkl\".format(\"y_label\")))\n",
        "util.toPickle(out_y_pred, attack_train_set_path.joinpath(\"{}.pkl\".format(\"y_pred\")))\n",
        "util.toPickle(out, attack_train_set_path.joinpath(\"{}.pkl\".format(\"target\")))"
      ],
      "metadata": {
        "id": "4dI0rugseKe8"
      },
      "execution_count": null,
      "outputs": []
    },
    {
      "cell_type": "code",
      "source": [
        "no_covid_y_pred = []\n",
        "no_covid_target = []\n",
        "\n",
        "covid_y_pred = []\n",
        "covid_target = []\n",
        "\n",
        "\n",
        "for label, pred, target in zip(out_y_label, out_y_pred, out):\n",
        "    if label == 0:\n",
        "        no_covid_y_pred.append(pred)\n",
        "        no_covid_target.append(target)\n",
        "    else:\n",
        "        covid_y_pred.append(pred)\n",
        "        covid_target.append(target)"
      ],
      "metadata": {
        "id": "RHlC0Vl2fWRj"
      },
      "execution_count": null,
      "outputs": []
    },
    {
      "cell_type": "code",
      "source": [
        "partition_path = attack_train_set_path.joinpath(\"partition\")\n",
        "\n",
        "util.toPickle(no_covid_y_pred, partition_path.joinpath(\"{}.pkl\".format(\"no_covid_y_pred\")))\n",
        "util.toPickle(no_covid_target, partition_path.joinpath(\"{}.pkl\".format(\"no_covid_target\")))\n",
        "\n",
        "util.toPickle(covid_y_pred, partition_path.joinpath(\"{}.pkl\".format(\"covid_y_pred\")))\n",
        "util.toPickle(covid_target, partition_path.joinpath(\"{}.pkl\".format(\"covid_target\")))"
      ],
      "metadata": {
        "id": "ZLUpHpDVfaSD"
      },
      "execution_count": null,
      "outputs": []
    }
  ]
}