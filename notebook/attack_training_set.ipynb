{
  "nbformat": 4,
  "nbformat_minor": 0,
  "metadata": {
    "colab": {
      "name": "attack_training_set.ipynb",
      "provenance": [],
      "background_execution": "on"
    },
    "kernelspec": {
      "name": "python3",
      "display_name": "Python 3"
    },
    "language_info": {
      "name": "python"
    },
    "accelerator": "GPU",
    "widgets": {
      "application/vnd.jupyter.widget-state+json": {
        "5e496fee352a475785f766963a4b183e": {
          "model_module": "@jupyter-widgets/controls",
          "model_name": "HBoxModel",
          "model_module_version": "1.5.0",
          "state": {
            "_dom_classes": [],
            "_model_module": "@jupyter-widgets/controls",
            "_model_module_version": "1.5.0",
            "_model_name": "HBoxModel",
            "_view_count": null,
            "_view_module": "@jupyter-widgets/controls",
            "_view_module_version": "1.5.0",
            "_view_name": "HBoxView",
            "box_style": "",
            "children": [
              "IPY_MODEL_3ae6262a64264509abc9f5a93894b3aa",
              "IPY_MODEL_d19ddb37e2b84b2c9ce5e503cbaccb2c",
              "IPY_MODEL_7d7c906b17c24a85a626f5a19115dabc"
            ],
            "layout": "IPY_MODEL_e0aa2b80a34040919822f61988bf2fe5"
          }
        },
        "3ae6262a64264509abc9f5a93894b3aa": {
          "model_module": "@jupyter-widgets/controls",
          "model_name": "HTMLModel",
          "model_module_version": "1.5.0",
          "state": {
            "_dom_classes": [],
            "_model_module": "@jupyter-widgets/controls",
            "_model_module_version": "1.5.0",
            "_model_name": "HTMLModel",
            "_view_count": null,
            "_view_module": "@jupyter-widgets/controls",
            "_view_module_version": "1.5.0",
            "_view_name": "HTMLView",
            "description": "",
            "description_tooltip": null,
            "layout": "IPY_MODEL_07408cb66bc34cc08f399dfe808133c8",
            "placeholder": "​",
            "style": "IPY_MODEL_7e56a0d2fa524b0daaa9f9a703c2a541",
            "value": " 98%"
          }
        },
        "d19ddb37e2b84b2c9ce5e503cbaccb2c": {
          "model_module": "@jupyter-widgets/controls",
          "model_name": "FloatProgressModel",
          "model_module_version": "1.5.0",
          "state": {
            "_dom_classes": [],
            "_model_module": "@jupyter-widgets/controls",
            "_model_module_version": "1.5.0",
            "_model_name": "FloatProgressModel",
            "_view_count": null,
            "_view_module": "@jupyter-widgets/controls",
            "_view_module_version": "1.5.0",
            "_view_name": "ProgressView",
            "bar_style": "",
            "description": "",
            "description_tooltip": null,
            "layout": "IPY_MODEL_1521bcf816994ae8938b4f4f59080b6f",
            "max": 200,
            "min": 0,
            "orientation": "horizontal",
            "style": "IPY_MODEL_e6d648d01bd04bb6b1664cb87c5ddc7d",
            "value": 200
          }
        },
        "7d7c906b17c24a85a626f5a19115dabc": {
          "model_module": "@jupyter-widgets/controls",
          "model_name": "HTMLModel",
          "model_module_version": "1.5.0",
          "state": {
            "_dom_classes": [],
            "_model_module": "@jupyter-widgets/controls",
            "_model_module_version": "1.5.0",
            "_model_name": "HTMLModel",
            "_view_count": null,
            "_view_module": "@jupyter-widgets/controls",
            "_view_module_version": "1.5.0",
            "_view_name": "HTMLView",
            "description": "",
            "description_tooltip": null,
            "layout": "IPY_MODEL_f1fcbfacd8db4b36a9797bb4fafc3bb6",
            "placeholder": "​",
            "style": "IPY_MODEL_b5f60845c32f43b684186e38d52510fc",
            "value": " 197/200 [00:05&lt;00:00, 35.62it/s]"
          }
        },
        "e0aa2b80a34040919822f61988bf2fe5": {
          "model_module": "@jupyter-widgets/base",
          "model_name": "LayoutModel",
          "model_module_version": "1.2.0",
          "state": {
            "_model_module": "@jupyter-widgets/base",
            "_model_module_version": "1.2.0",
            "_model_name": "LayoutModel",
            "_view_count": null,
            "_view_module": "@jupyter-widgets/base",
            "_view_module_version": "1.2.0",
            "_view_name": "LayoutView",
            "align_content": null,
            "align_items": null,
            "align_self": null,
            "border": null,
            "bottom": null,
            "display": null,
            "flex": null,
            "flex_flow": null,
            "grid_area": null,
            "grid_auto_columns": null,
            "grid_auto_flow": null,
            "grid_auto_rows": null,
            "grid_column": null,
            "grid_gap": null,
            "grid_row": null,
            "grid_template_areas": null,
            "grid_template_columns": null,
            "grid_template_rows": null,
            "height": null,
            "justify_content": null,
            "justify_items": null,
            "left": null,
            "margin": null,
            "max_height": null,
            "max_width": null,
            "min_height": null,
            "min_width": null,
            "object_fit": null,
            "object_position": null,
            "order": null,
            "overflow": null,
            "overflow_x": null,
            "overflow_y": null,
            "padding": null,
            "right": null,
            "top": null,
            "visibility": null,
            "width": null
          }
        },
        "07408cb66bc34cc08f399dfe808133c8": {
          "model_module": "@jupyter-widgets/base",
          "model_name": "LayoutModel",
          "model_module_version": "1.2.0",
          "state": {
            "_model_module": "@jupyter-widgets/base",
            "_model_module_version": "1.2.0",
            "_model_name": "LayoutModel",
            "_view_count": null,
            "_view_module": "@jupyter-widgets/base",
            "_view_module_version": "1.2.0",
            "_view_name": "LayoutView",
            "align_content": null,
            "align_items": null,
            "align_self": null,
            "border": null,
            "bottom": null,
            "display": null,
            "flex": null,
            "flex_flow": null,
            "grid_area": null,
            "grid_auto_columns": null,
            "grid_auto_flow": null,
            "grid_auto_rows": null,
            "grid_column": null,
            "grid_gap": null,
            "grid_row": null,
            "grid_template_areas": null,
            "grid_template_columns": null,
            "grid_template_rows": null,
            "height": null,
            "justify_content": null,
            "justify_items": null,
            "left": null,
            "margin": null,
            "max_height": null,
            "max_width": null,
            "min_height": null,
            "min_width": null,
            "object_fit": null,
            "object_position": null,
            "order": null,
            "overflow": null,
            "overflow_x": null,
            "overflow_y": null,
            "padding": null,
            "right": null,
            "top": null,
            "visibility": null,
            "width": null
          }
        },
        "7e56a0d2fa524b0daaa9f9a703c2a541": {
          "model_module": "@jupyter-widgets/controls",
          "model_name": "DescriptionStyleModel",
          "model_module_version": "1.5.0",
          "state": {
            "_model_module": "@jupyter-widgets/controls",
            "_model_module_version": "1.5.0",
            "_model_name": "DescriptionStyleModel",
            "_view_count": null,
            "_view_module": "@jupyter-widgets/base",
            "_view_module_version": "1.2.0",
            "_view_name": "StyleView",
            "description_width": ""
          }
        },
        "1521bcf816994ae8938b4f4f59080b6f": {
          "model_module": "@jupyter-widgets/base",
          "model_name": "LayoutModel",
          "model_module_version": "1.2.0",
          "state": {
            "_model_module": "@jupyter-widgets/base",
            "_model_module_version": "1.2.0",
            "_model_name": "LayoutModel",
            "_view_count": null,
            "_view_module": "@jupyter-widgets/base",
            "_view_module_version": "1.2.0",
            "_view_name": "LayoutView",
            "align_content": null,
            "align_items": null,
            "align_self": null,
            "border": null,
            "bottom": null,
            "display": null,
            "flex": null,
            "flex_flow": null,
            "grid_area": null,
            "grid_auto_columns": null,
            "grid_auto_flow": null,
            "grid_auto_rows": null,
            "grid_column": null,
            "grid_gap": null,
            "grid_row": null,
            "grid_template_areas": null,
            "grid_template_columns": null,
            "grid_template_rows": null,
            "height": null,
            "justify_content": null,
            "justify_items": null,
            "left": null,
            "margin": null,
            "max_height": null,
            "max_width": null,
            "min_height": null,
            "min_width": null,
            "object_fit": null,
            "object_position": null,
            "order": null,
            "overflow": null,
            "overflow_x": null,
            "overflow_y": null,
            "padding": null,
            "right": null,
            "top": null,
            "visibility": null,
            "width": null
          }
        },
        "e6d648d01bd04bb6b1664cb87c5ddc7d": {
          "model_module": "@jupyter-widgets/controls",
          "model_name": "ProgressStyleModel",
          "model_module_version": "1.5.0",
          "state": {
            "_model_module": "@jupyter-widgets/controls",
            "_model_module_version": "1.5.0",
            "_model_name": "ProgressStyleModel",
            "_view_count": null,
            "_view_module": "@jupyter-widgets/base",
            "_view_module_version": "1.2.0",
            "_view_name": "StyleView",
            "bar_color": null,
            "description_width": ""
          }
        },
        "f1fcbfacd8db4b36a9797bb4fafc3bb6": {
          "model_module": "@jupyter-widgets/base",
          "model_name": "LayoutModel",
          "model_module_version": "1.2.0",
          "state": {
            "_model_module": "@jupyter-widgets/base",
            "_model_module_version": "1.2.0",
            "_model_name": "LayoutModel",
            "_view_count": null,
            "_view_module": "@jupyter-widgets/base",
            "_view_module_version": "1.2.0",
            "_view_name": "LayoutView",
            "align_content": null,
            "align_items": null,
            "align_self": null,
            "border": null,
            "bottom": null,
            "display": null,
            "flex": null,
            "flex_flow": null,
            "grid_area": null,
            "grid_auto_columns": null,
            "grid_auto_flow": null,
            "grid_auto_rows": null,
            "grid_column": null,
            "grid_gap": null,
            "grid_row": null,
            "grid_template_areas": null,
            "grid_template_columns": null,
            "grid_template_rows": null,
            "height": null,
            "justify_content": null,
            "justify_items": null,
            "left": null,
            "margin": null,
            "max_height": null,
            "max_width": null,
            "min_height": null,
            "min_width": null,
            "object_fit": null,
            "object_position": null,
            "order": null,
            "overflow": null,
            "overflow_x": null,
            "overflow_y": null,
            "padding": null,
            "right": null,
            "top": null,
            "visibility": null,
            "width": null
          }
        },
        "b5f60845c32f43b684186e38d52510fc": {
          "model_module": "@jupyter-widgets/controls",
          "model_name": "DescriptionStyleModel",
          "model_module_version": "1.5.0",
          "state": {
            "_model_module": "@jupyter-widgets/controls",
            "_model_module_version": "1.5.0",
            "_model_name": "DescriptionStyleModel",
            "_view_count": null,
            "_view_module": "@jupyter-widgets/base",
            "_view_module_version": "1.2.0",
            "_view_name": "StyleView",
            "description_width": ""
          }
        },
        "607c9c80fbaf451fb7f72b689c365020": {
          "model_module": "@jupyter-widgets/controls",
          "model_name": "HBoxModel",
          "model_module_version": "1.5.0",
          "state": {
            "_dom_classes": [],
            "_model_module": "@jupyter-widgets/controls",
            "_model_module_version": "1.5.0",
            "_model_name": "HBoxModel",
            "_view_count": null,
            "_view_module": "@jupyter-widgets/controls",
            "_view_module_version": "1.5.0",
            "_view_name": "HBoxView",
            "box_style": "",
            "children": [
              "IPY_MODEL_0f3e08669c3a4269975dd9d03da72326",
              "IPY_MODEL_3ac667fbf5fe4e708995e3aa94dfe60f",
              "IPY_MODEL_124b78d9241a430e95753b6b232796c4"
            ],
            "layout": "IPY_MODEL_d85399f87ca1429bad7bcefdf8afc2e3"
          }
        },
        "0f3e08669c3a4269975dd9d03da72326": {
          "model_module": "@jupyter-widgets/controls",
          "model_name": "HTMLModel",
          "model_module_version": "1.5.0",
          "state": {
            "_dom_classes": [],
            "_model_module": "@jupyter-widgets/controls",
            "_model_module_version": "1.5.0",
            "_model_name": "HTMLModel",
            "_view_count": null,
            "_view_module": "@jupyter-widgets/controls",
            "_view_module_version": "1.5.0",
            "_view_name": "HTMLView",
            "description": "",
            "description_tooltip": null,
            "layout": "IPY_MODEL_35b367320b5148e59d766eb757a91847",
            "placeholder": "​",
            "style": "IPY_MODEL_67dfaed790fb4fadaa51ca385ab515ab",
            "value": "100%"
          }
        },
        "3ac667fbf5fe4e708995e3aa94dfe60f": {
          "model_module": "@jupyter-widgets/controls",
          "model_name": "FloatProgressModel",
          "model_module_version": "1.5.0",
          "state": {
            "_dom_classes": [],
            "_model_module": "@jupyter-widgets/controls",
            "_model_module_version": "1.5.0",
            "_model_name": "FloatProgressModel",
            "_view_count": null,
            "_view_module": "@jupyter-widgets/controls",
            "_view_module_version": "1.5.0",
            "_view_name": "ProgressView",
            "bar_style": "",
            "description": "",
            "description_tooltip": null,
            "layout": "IPY_MODEL_b26161692dbd4057ae9672907fc07e9a",
            "max": 642,
            "min": 0,
            "orientation": "horizontal",
            "style": "IPY_MODEL_986cee84c57d4a17940a5f954930f328",
            "value": 642
          }
        },
        "124b78d9241a430e95753b6b232796c4": {
          "model_module": "@jupyter-widgets/controls",
          "model_name": "HTMLModel",
          "model_module_version": "1.5.0",
          "state": {
            "_dom_classes": [],
            "_model_module": "@jupyter-widgets/controls",
            "_model_module_version": "1.5.0",
            "_model_name": "HTMLModel",
            "_view_count": null,
            "_view_module": "@jupyter-widgets/controls",
            "_view_module_version": "1.5.0",
            "_view_name": "HTMLView",
            "description": "",
            "description_tooltip": null,
            "layout": "IPY_MODEL_a731a2957ab445c180d16f2866002a9d",
            "placeholder": "​",
            "style": "IPY_MODEL_ff7dbffdf0de47cba2d5066e1e3de208",
            "value": " 642/642 [00:41&lt;00:00, 13.34it/s]"
          }
        },
        "d85399f87ca1429bad7bcefdf8afc2e3": {
          "model_module": "@jupyter-widgets/base",
          "model_name": "LayoutModel",
          "model_module_version": "1.2.0",
          "state": {
            "_model_module": "@jupyter-widgets/base",
            "_model_module_version": "1.2.0",
            "_model_name": "LayoutModel",
            "_view_count": null,
            "_view_module": "@jupyter-widgets/base",
            "_view_module_version": "1.2.0",
            "_view_name": "LayoutView",
            "align_content": null,
            "align_items": null,
            "align_self": null,
            "border": null,
            "bottom": null,
            "display": null,
            "flex": null,
            "flex_flow": null,
            "grid_area": null,
            "grid_auto_columns": null,
            "grid_auto_flow": null,
            "grid_auto_rows": null,
            "grid_column": null,
            "grid_gap": null,
            "grid_row": null,
            "grid_template_areas": null,
            "grid_template_columns": null,
            "grid_template_rows": null,
            "height": null,
            "justify_content": null,
            "justify_items": null,
            "left": null,
            "margin": null,
            "max_height": null,
            "max_width": null,
            "min_height": null,
            "min_width": null,
            "object_fit": null,
            "object_position": null,
            "order": null,
            "overflow": null,
            "overflow_x": null,
            "overflow_y": null,
            "padding": null,
            "right": null,
            "top": null,
            "visibility": null,
            "width": null
          }
        },
        "35b367320b5148e59d766eb757a91847": {
          "model_module": "@jupyter-widgets/base",
          "model_name": "LayoutModel",
          "model_module_version": "1.2.0",
          "state": {
            "_model_module": "@jupyter-widgets/base",
            "_model_module_version": "1.2.0",
            "_model_name": "LayoutModel",
            "_view_count": null,
            "_view_module": "@jupyter-widgets/base",
            "_view_module_version": "1.2.0",
            "_view_name": "LayoutView",
            "align_content": null,
            "align_items": null,
            "align_self": null,
            "border": null,
            "bottom": null,
            "display": null,
            "flex": null,
            "flex_flow": null,
            "grid_area": null,
            "grid_auto_columns": null,
            "grid_auto_flow": null,
            "grid_auto_rows": null,
            "grid_column": null,
            "grid_gap": null,
            "grid_row": null,
            "grid_template_areas": null,
            "grid_template_columns": null,
            "grid_template_rows": null,
            "height": null,
            "justify_content": null,
            "justify_items": null,
            "left": null,
            "margin": null,
            "max_height": null,
            "max_width": null,
            "min_height": null,
            "min_width": null,
            "object_fit": null,
            "object_position": null,
            "order": null,
            "overflow": null,
            "overflow_x": null,
            "overflow_y": null,
            "padding": null,
            "right": null,
            "top": null,
            "visibility": null,
            "width": null
          }
        },
        "67dfaed790fb4fadaa51ca385ab515ab": {
          "model_module": "@jupyter-widgets/controls",
          "model_name": "DescriptionStyleModel",
          "model_module_version": "1.5.0",
          "state": {
            "_model_module": "@jupyter-widgets/controls",
            "_model_module_version": "1.5.0",
            "_model_name": "DescriptionStyleModel",
            "_view_count": null,
            "_view_module": "@jupyter-widgets/base",
            "_view_module_version": "1.2.0",
            "_view_name": "StyleView",
            "description_width": ""
          }
        },
        "b26161692dbd4057ae9672907fc07e9a": {
          "model_module": "@jupyter-widgets/base",
          "model_name": "LayoutModel",
          "model_module_version": "1.2.0",
          "state": {
            "_model_module": "@jupyter-widgets/base",
            "_model_module_version": "1.2.0",
            "_model_name": "LayoutModel",
            "_view_count": null,
            "_view_module": "@jupyter-widgets/base",
            "_view_module_version": "1.2.0",
            "_view_name": "LayoutView",
            "align_content": null,
            "align_items": null,
            "align_self": null,
            "border": null,
            "bottom": null,
            "display": null,
            "flex": null,
            "flex_flow": null,
            "grid_area": null,
            "grid_auto_columns": null,
            "grid_auto_flow": null,
            "grid_auto_rows": null,
            "grid_column": null,
            "grid_gap": null,
            "grid_row": null,
            "grid_template_areas": null,
            "grid_template_columns": null,
            "grid_template_rows": null,
            "height": null,
            "justify_content": null,
            "justify_items": null,
            "left": null,
            "margin": null,
            "max_height": null,
            "max_width": null,
            "min_height": null,
            "min_width": null,
            "object_fit": null,
            "object_position": null,
            "order": null,
            "overflow": null,
            "overflow_x": null,
            "overflow_y": null,
            "padding": null,
            "right": null,
            "top": null,
            "visibility": null,
            "width": null
          }
        },
        "986cee84c57d4a17940a5f954930f328": {
          "model_module": "@jupyter-widgets/controls",
          "model_name": "ProgressStyleModel",
          "model_module_version": "1.5.0",
          "state": {
            "_model_module": "@jupyter-widgets/controls",
            "_model_module_version": "1.5.0",
            "_model_name": "ProgressStyleModel",
            "_view_count": null,
            "_view_module": "@jupyter-widgets/base",
            "_view_module_version": "1.2.0",
            "_view_name": "StyleView",
            "bar_color": null,
            "description_width": ""
          }
        },
        "a731a2957ab445c180d16f2866002a9d": {
          "model_module": "@jupyter-widgets/base",
          "model_name": "LayoutModel",
          "model_module_version": "1.2.0",
          "state": {
            "_model_module": "@jupyter-widgets/base",
            "_model_module_version": "1.2.0",
            "_model_name": "LayoutModel",
            "_view_count": null,
            "_view_module": "@jupyter-widgets/base",
            "_view_module_version": "1.2.0",
            "_view_name": "LayoutView",
            "align_content": null,
            "align_items": null,
            "align_self": null,
            "border": null,
            "bottom": null,
            "display": null,
            "flex": null,
            "flex_flow": null,
            "grid_area": null,
            "grid_auto_columns": null,
            "grid_auto_flow": null,
            "grid_auto_rows": null,
            "grid_column": null,
            "grid_gap": null,
            "grid_row": null,
            "grid_template_areas": null,
            "grid_template_columns": null,
            "grid_template_rows": null,
            "height": null,
            "justify_content": null,
            "justify_items": null,
            "left": null,
            "margin": null,
            "max_height": null,
            "max_width": null,
            "min_height": null,
            "min_width": null,
            "object_fit": null,
            "object_position": null,
            "order": null,
            "overflow": null,
            "overflow_x": null,
            "overflow_y": null,
            "padding": null,
            "right": null,
            "top": null,
            "visibility": null,
            "width": null
          }
        },
        "ff7dbffdf0de47cba2d5066e1e3de208": {
          "model_module": "@jupyter-widgets/controls",
          "model_name": "DescriptionStyleModel",
          "model_module_version": "1.5.0",
          "state": {
            "_model_module": "@jupyter-widgets/controls",
            "_model_module_version": "1.5.0",
            "_model_name": "DescriptionStyleModel",
            "_view_count": null,
            "_view_module": "@jupyter-widgets/base",
            "_view_module_version": "1.2.0",
            "_view_name": "StyleView",
            "description_width": ""
          }
        }
      }
    }
  },
  "cells": [
    {
      "cell_type": "code",
      "execution_count": null,
      "metadata": {
        "colab": {
          "base_uri": "https://localhost:8080/"
        },
        "id": "y_Bx1w18TzGW",
        "outputId": "b1c62ec4-7e87-4d5a-e371-6f185c2ac594"
      },
      "outputs": [
        {
          "output_type": "stream",
          "name": "stdout",
          "text": [
            "Drive already mounted at /content/drive; to attempt to forcibly remount, call drive.mount(\"/content/drive\", force_remount=True).\n"
          ]
        }
      ],
      "source": [
        "from google.colab import drive\n",
        "\n",
        "drive.mount('/content/drive')"
      ]
    },
    {
      "cell_type": "markdown",
      "source": [
        "## Prepare for datapath"
      ],
      "metadata": {
        "id": "RoyCcPRHV9Uw"
      }
    },
    {
      "cell_type": "code",
      "source": [
        "import pandas as pd\n",
        "import shutil\n",
        "import os\n",
        "\n",
        "!git clone https://github.com/ieee8023/covid-chestxray-dataset.git\n",
        "\n",
        "!unzip -q '/content/drive/MyDrive/MEDICAL/Labeled Optical Coherence Tomography (OCT) and Chest X-Ray Images for Classification.zip' -d '/content/d/'\n",
        "!unzip -q '/content/d/ChestXRay2017.zip' -d '/content/d/dd/'\n",
        "\n",
        "df = pd.read_csv('./covid-chestxray-dataset/metadata.csv')\n",
        "selected_df = df[df.finding==\"Pneumonia/Viral/COVID-19\"]\n",
        "selected_df = selected_df[(selected_df.view == \"AP\") | (selected_df.view == \"PA\")]\n",
        "\n",
        "df = pd.read_csv('./covid-chestxray-dataset/metadata.csv')\n",
        "selected_df = df[df.finding==\"Pneumonia/Viral/COVID-19\"]\n",
        "selected_df = selected_df[(selected_df.view == \"AP\") | (selected_df.view == \"PA\")]\n",
        "\n",
        "images = selected_df.filename.values.tolist()\n",
        "\n",
        "os.makedirs('./COVID19-DATASET/train/covid19')\n",
        "os.makedirs('./COVID19-DATASET/train/normal')\n",
        "\n",
        "COVID_PATH = './COVID19-DATASET/train/covid19'\n",
        "NORMAL_PATH = './COVID19-DATASET/train/normal'\n",
        "\n",
        "for image in images:\n",
        "    shutil.copy(os.path.join('./covid-chestxray-dataset/images', image), os.path.join(COVID_PATH, image))\n",
        "\n",
        "for image in os.listdir('/content/d/dd/chest_xray/train/NORMAL')[:300]:\n",
        "    shutil.copy(os.path.join('/content/d/dd/chest_xray/train/NORMAL', image), os.path.join(NORMAL_PATH, image))\n",
        "\n",
        "TRAIN_PATH = '/content/COVID19-DATASET/train'\n",
        "\n",
        "print(\"TRAIN_PATH: {}\".format(TRAIN_PATH))\n",
        "\n",
        "!unzip -q '/content/drive/MyDrive/MEDICAL/COVID-19_Radiography_Database.zip' -d '/content/covid19-radiography-database/'\n",
        "\n",
        "os.makedirs('./COVID19-DATASET/test/covid19')\n",
        "os.makedirs('./COVID19-DATASET/test/normal')\n",
        "\n",
        "COVID_TEST = '/content/covid19-radiography-database/COVID-19_Radiography_Dataset/COVID'\n",
        "NORMAL_TEST = '/content/covid19-radiography-database/COVID-19_Radiography_Dataset/Normal'\n",
        "\n",
        "for image in os.listdir(COVID_TEST)[:100]:\n",
        "    shutil.copy(os.path.join(COVID_TEST, image), os.path.join('./COVID19-DATASET/test/covid19', image))\n",
        "for image in os.listdir(NORMAL_TEST)[:100]:\n",
        "    shutil.copy(os.path.join(NORMAL_TEST, image), os.path.join('./COVID19-DATASET/test/normal', image))\n",
        "\n",
        "TEST_PATH = '/content/COVID19-DATASET/test'\n"
      ],
      "metadata": {
        "colab": {
          "base_uri": "https://localhost:8080/"
        },
        "id": "ukyzf1p0WAxZ",
        "outputId": "3c4c35c3-537a-49f7-dcb1-14fe94d56bca"
      },
      "execution_count": null,
      "outputs": [
        {
          "output_type": "stream",
          "name": "stdout",
          "text": [
            "Cloning into 'covid-chestxray-dataset'...\n",
            "remote: Enumerating objects: 3641, done.\u001b[K\n",
            "remote: Total 3641 (delta 0), reused 0 (delta 0), pack-reused 3641\u001b[K\n",
            "Receiving objects: 100% (3641/3641), 632.96 MiB | 36.01 MiB/s, done.\n",
            "Resolving deltas: 100% (1450/1450), done.\n",
            "Checking out files: 100% (1174/1174), done.\n",
            "TRAIN_PATH: /content/COVID19-DATASET/train\n"
          ]
        }
      ]
    },
    {
      "cell_type": "markdown",
      "source": [
        "# Prepare for code"
      ],
      "metadata": {
        "id": "fkLqDTXIJrio"
      }
    },
    {
      "cell_type": "code",
      "source": [
        "import sys\n",
        "!git clone https://github.com/Michaeltaoma/SecureCovid.git\n",
        "%cd SecureCovid\n",
        "!git checkout dev\n",
        "sys.path.append(\"/content/SecureCovid\")"
      ],
      "metadata": {
        "colab": {
          "base_uri": "https://localhost:8080/"
        },
        "id": "7K_KcekGJmQ_",
        "outputId": "641bb993-a355-42a4-9ff8-de16a17649b6"
      },
      "execution_count": null,
      "outputs": [
        {
          "output_type": "stream",
          "name": "stdout",
          "text": [
            "Cloning into 'SecureCovid'...\n",
            "remote: Enumerating objects: 110, done.\u001b[K\n",
            "remote: Counting objects: 100% (110/110), done.\u001b[K\n",
            "remote: Compressing objects: 100% (78/78), done.\u001b[K\n",
            "remote: Total 110 (delta 53), reused 69 (delta 25), pack-reused 0\u001b[K\n",
            "Receiving objects: 100% (110/110), 21.87 KiB | 10.94 MiB/s, done.\n",
            "Resolving deltas: 100% (53/53), done.\n",
            "/content/SecureCovid\n",
            "Branch 'dev' set up to track remote branch 'dev' from 'origin'.\n",
            "Switched to a new branch 'dev'\n"
          ]
        }
      ]
    },
    {
      "cell_type": "markdown",
      "source": [
        "# import"
      ],
      "metadata": {
        "id": "MKf-vtJnJunk"
      }
    },
    {
      "cell_type": "code",
      "source": [
        "from model import pretrained\n",
        "import util\n",
        "\n",
        "import numpy as np\n",
        "\n",
        "import torch\n",
        "import torchvision\n",
        "import torch.nn as nn\n",
        "import torch.optim as optim\n",
        "from torchvision import datasets, models, transforms\n",
        "from torch.utils.data.sampler import SubsetRandomSampler\n",
        "\n",
        "import matplotlib.pyplot as plt\n",
        "import time\n",
        "import copy\n",
        "from random import shuffle\n",
        "\n",
        "import tqdm.notebook as tqdm\n",
        "\n",
        "import sklearn\n",
        "from sklearn.metrics import accuracy_score, cohen_kappa_score\n",
        "from sklearn.metrics import classification_report\n",
        "from PIL import Image\n",
        "import cv2"
      ],
      "metadata": {
        "id": "HOn0BQkCVS_I"
      },
      "execution_count": null,
      "outputs": []
    },
    {
      "cell_type": "code",
      "source": [
        "!python main.py --name \"withOneFifty\""
      ],
      "metadata": {
        "colab": {
          "base_uri": "https://localhost:8080/"
        },
        "id": "vgRPnYkNWnq8",
        "outputId": "91adbdde-9637-4a09-d75b-520331c398af"
      },
      "execution_count": null,
      "outputs": [
        {
          "output_type": "stream",
          "name": "stdout",
          "text": [
            "Training on GPU... Ready for HyperJump...\n",
            "Downloading: \"https://download.pytorch.org/models/densenet121-a639ec97.pth\" to /root/.cache/torch/hub/checkpoints/densenet121-a639ec97.pth\n",
            "100% 30.8M/30.8M [00:00<00:00, 70.1MB/s]\n",
            "Epoch 1/10\n",
            "----------\n",
            "train:   0%|          | 0/65 [00:00<?, ?it/s]\n",
            "train Loss: 0.3917 | train Accuracy: 0.9027\n",
            "val:   0%|          | 0/16 [00:00<?, ?it/s]\n",
            "val Loss: 0.1649 | val Accuracy: 0.9609 | Kappa Score: 0.9196\n",
            "Val loss Decreased from inf to 0.1649 \n",
            "Saving Weights... \n",
            "\n",
            "Epoch 2/10\n",
            "----------\n",
            "train:   0%|          | 0/65 [00:00<?, ?it/s]\n",
            "/usr/local/lib/python3.7/dist-packages/sklearn/metrics/_classification.py:663: RuntimeWarning: invalid value encountered in true_divide\n",
            "  k = np.sum(w_mat * confusion) / np.sum(w_mat * expected)\n",
            "train Loss: 0.2144 | train Accuracy: 0.9377\n",
            "val:   0%|          | 0/16 [00:00<?, ?it/s]\n",
            "val Loss: 0.1594 | val Accuracy: 0.9609 | Kappa Score: 0.9080\n",
            "Val loss Decreased from 0.1649 to 0.1594 \n",
            "Saving Weights... \n",
            "\n",
            "Epoch 3/10\n",
            "----------\n",
            "train:   0%|          | 0/65 [00:00<?, ?it/s]\n",
            "train Loss: 0.2093 | train Accuracy: 0.9222\n",
            "val:   0%|          | 0/16 [00:00<?, ?it/s]\n",
            "val Loss: 0.1639 | val Accuracy: 0.9531 | Kappa Score: 0.8996\n",
            "\n",
            "Epoch 4/10\n",
            "----------\n",
            "train:   0%|          | 0/65 [00:00<?, ?it/s]\n",
            "train Loss: 0.2435 | train Accuracy: 0.9222\n",
            "val:   0%|          | 0/16 [00:00<?, ?it/s]\n",
            "/usr/local/lib/python3.7/dist-packages/sklearn/metrics/_classification.py:663: RuntimeWarning: invalid value encountered in true_divide\n",
            "  k = np.sum(w_mat * confusion) / np.sum(w_mat * expected)\n",
            "val Loss: 0.1554 | val Accuracy: 0.9531 | Kappa Score: nan\n",
            "Val loss Decreased from 0.1594 to 0.1554 \n",
            "Saving Weights... \n",
            "\n",
            "Epoch 5/10\n",
            "----------\n",
            "train:   0%|          | 0/65 [00:00<?, ?it/s]\n",
            "train Loss: 0.2026 | train Accuracy: 0.9202\n",
            "val:   0%|          | 0/16 [00:00<?, ?it/s]\n",
            "val Loss: 0.1691 | val Accuracy: 0.9375 | Kappa Score: 0.8634\n",
            "\n",
            "Epoch 6/10\n",
            "----------\n",
            "train:   0%|          | 0/65 [00:00<?, ?it/s]\n",
            "train Loss: 0.2047 | train Accuracy: 0.9377\n",
            "val:   0%|          | 0/16 [00:00<?, ?it/s]\n",
            "val Loss: 0.1580 | val Accuracy: 0.9531 | Kappa Score: 0.8926\n",
            "\n",
            "Epoch 7/10\n",
            "----------\n",
            "train:   0%|          | 0/65 [00:00<?, ?it/s]\n",
            "train Loss: 0.2145 | train Accuracy: 0.9241\n",
            "val:   0%|          | 0/16 [00:00<?, ?it/s]\n",
            "val Loss: 0.1611 | val Accuracy: 0.9531 | Kappa Score: 0.8968\n",
            "\n",
            "Epoch 8/10\n",
            "----------\n",
            "train:   0%|          | 0/65 [00:00<?, ?it/s]\n",
            "/usr/local/lib/python3.7/dist-packages/sklearn/metrics/_classification.py:663: RuntimeWarning: invalid value encountered in true_divide\n",
            "  k = np.sum(w_mat * confusion) / np.sum(w_mat * expected)\n",
            "train Loss: 0.1807 | train Accuracy: 0.9436\n",
            "val:   0%|          | 0/16 [00:00<?, ?it/s]\n",
            "val Loss: 0.1610 | val Accuracy: 0.9609 | Kappa Score: 0.8915\n",
            "\n",
            "Epoch 9/10\n",
            "----------\n",
            "train:   0%|          | 0/65 [00:00<?, ?it/s]\n",
            "train Loss: 0.2571 | train Accuracy: 0.9358\n",
            "val:   0%|          | 0/16 [00:00<?, ?it/s]\n",
            "val Loss: 0.1628 | val Accuracy: 0.9453 | Kappa Score: 0.8615\n",
            "\n",
            "Epoch 10/10\n",
            "----------\n",
            "train:   0%|          | 0/65 [00:00<?, ?it/s]\n",
            "/usr/local/lib/python3.7/dist-packages/sklearn/metrics/_classification.py:663: RuntimeWarning: invalid value encountered in true_divide\n",
            "  k = np.sum(w_mat * confusion) / np.sum(w_mat * expected)\n",
            "train Loss: 0.2079 | train Accuracy: 0.9358\n",
            "val:   0%|          | 0/16 [00:00<?, ?it/s]\n",
            "val Loss: 0.1910 | val Accuracy: 0.9531 | Kappa Score: 0.8983\n",
            "\n",
            "Training complete in 4m 30s\n",
            "Best val loss: 0.1554\n",
            "Model saved to /content/drive/MyDrive/MEDICAL/trained/withOneFifty_1647134337.836162.pth\n"
          ]
        }
      ]
    },
    {
      "cell_type": "markdown",
      "source": [
        "# Load the trained model\n",
        "\n",
        "So that <code>shadow</code> is the model to be used"
      ],
      "metadata": {
        "id": "nxA5JlvdYHNx"
      }
    },
    {
      "cell_type": "code",
      "source": [
        "import preprocess\n",
        "import train\n",
        "from model import pretrained\n",
        "\n",
        "trainloader, valloader, dataset_size = preprocess.load_split_train_test(TRAIN_PATH, .2)\n",
        "class_names = trainloader.dataset.classes\n",
        "dataloaders = {\"train\": trainloader, \"val\": valloader}\n",
        "device = torch.device(\"cuda:0\") if torch.cuda.is_available() else torch.device(\"cpu\")"
      ],
      "metadata": {
        "id": "IB0R7zDDYGXS"
      },
      "execution_count": null,
      "outputs": []
    },
    {
      "cell_type": "code",
      "source": [
        "saved_path = \"/content/drive/MyDrive/MEDICAL/trained/withOneFifty_1647134337.836162.pth\"\n",
        "shadow = pretrained.dense_shadow(device, class_names)\n",
        "shadow.load_state_dict(torch.load(saved_path))\n",
        "# shadow.eval()"
      ],
      "metadata": {
        "colab": {
          "base_uri": "https://localhost:8080/"
        },
        "id": "RQBlrz1GVV9E",
        "outputId": "88938cc6-e40c-42c2-f14c-e622c42e869c"
      },
      "execution_count": null,
      "outputs": [
        {
          "output_type": "execute_result",
          "data": {
            "text/plain": [
              "<All keys matched successfully>"
            ]
          },
          "metadata": {},
          "execution_count": 7
        }
      ]
    },
    {
      "cell_type": "markdown",
      "source": [
        "# Gather Attack train set"
      ],
      "metadata": {
        "id": "u2zJvDuquUkA"
      }
    },
    {
      "cell_type": "code",
      "source": [
        "from pathlib import Path\n",
        "attack_train_set_path = Path(\"/content/drive/MyDrive/MEDICAL/attack_train\")"
      ],
      "metadata": {
        "id": "Y3NFgpQz9Nce"
      },
      "execution_count": null,
      "outputs": []
    },
    {
      "cell_type": "code",
      "source": [
        "test_images = datasets.ImageFolder(TEST_PATH, transform=preprocess.test_transforms)\n",
        "testloader = torch.utils.data.DataLoader(test_images, batch_size = 1)"
      ],
      "metadata": {
        "id": "GILSlHKupqg5"
      },
      "execution_count": null,
      "outputs": []
    },
    {
      "cell_type": "code",
      "source": [
        "y_pred_list = []\n",
        "y_true_list = []\n",
        "\n",
        "out_x = []\n",
        "out_y_pred = []\n",
        "out_y_label = []\n",
        "out = []\n",
        "\n",
        "with torch.no_grad():\n",
        "    for x_batch, y_batch in tqdm.tqdm(testloader, leave=False):\n",
        "        x_batch, y_batch = x_batch.to(device), y_batch.to(device)\n",
        "        y_test_pred = shadow(x_batch)\n",
        "        y_test_pred = torch.log_softmax(y_test_pred, dim=1)\n",
        "        _, y_pred_tag = torch.max(y_test_pred, dim = 1)\n",
        "        y_pred_list.append(y_pred_tag.cpu().numpy())\n",
        "        y_true_list.append(y_batch.cpu().numpy())\n",
        "\n",
        "        out_x.append(x_batch.cpu().numpy())\n",
        "        out_y_pred.append(y_test_pred.cpu().numpy())\n",
        "        out_y_label.append(y_batch.cpu().numpy())\n",
        "        out.append(0)"
      ],
      "metadata": {
        "colab": {
          "base_uri": "https://localhost:8080/",
          "height": 17,
          "referenced_widgets": [
            "5e496fee352a475785f766963a4b183e",
            "3ae6262a64264509abc9f5a93894b3aa",
            "d19ddb37e2b84b2c9ce5e503cbaccb2c",
            "7d7c906b17c24a85a626f5a19115dabc",
            "e0aa2b80a34040919822f61988bf2fe5",
            "07408cb66bc34cc08f399dfe808133c8",
            "7e56a0d2fa524b0daaa9f9a703c2a541",
            "1521bcf816994ae8938b4f4f59080b6f",
            "e6d648d01bd04bb6b1664cb87c5ddc7d",
            "f1fcbfacd8db4b36a9797bb4fafc3bb6",
            "b5f60845c32f43b684186e38d52510fc"
          ]
        },
        "id": "raxy6iyVuSEQ",
        "outputId": "3a2dac3c-75f5-447d-af8c-70bc0cf82c44"
      },
      "execution_count": null,
      "outputs": [
        {
          "output_type": "display_data",
          "data": {
            "text/plain": [
              "  0%|          | 0/200 [00:00<?, ?it/s]"
            ],
            "application/vnd.jupyter.widget-view+json": {
              "version_major": 2,
              "version_minor": 0,
              "model_id": "5e496fee352a475785f766963a4b183e"
            }
          },
          "metadata": {}
        }
      ]
    },
    {
      "cell_type": "code",
      "source": [
        "def load_all_train(datadir, valid_size=0.0):\n",
        "    train_data = datasets.ImageFolder(datadir,\n",
        "                                      transform=preprocess.data_transforms['train'])\n",
        "    test_data = datasets.ImageFolder(datadir,\n",
        "                                     transform=preprocess.data_transforms['val'])\n",
        "    num_train = len(train_data)\n",
        "    indices = list(range(num_train))\n",
        "    split = int(np.floor(valid_size * num_train))\n",
        "    np.random.shuffle(indices)\n",
        "    train_idx, test_idx = indices[split:], indices[:split]\n",
        "    dataset_size = {\"train\": len(train_idx), \"val\": len(test_idx)}\n",
        "    train_sampler = SubsetRandomSampler(train_idx)\n",
        "    test_sampler = SubsetRandomSampler(test_idx)\n",
        "    trainloader = torch.utils.data.DataLoader(train_data,\n",
        "                                              sampler=train_sampler, batch_size=1)\n",
        "    return trainloader"
      ],
      "metadata": {
        "id": "e7gnJ9xMEnDF"
      },
      "execution_count": null,
      "outputs": []
    },
    {
      "cell_type": "code",
      "source": [
        "all_train = load_all_train(TRAIN_PATH)\n",
        "\n",
        "y_pred_list = []\n",
        "y_true_list = []\n",
        "\n",
        "with torch.no_grad():\n",
        "    for x_batch, y_batch in tqdm.tqdm(all_train, leave=False):\n",
        "        x_batch, y_batch = x_batch.to(device), y_batch.to(device)\n",
        "        y_test_pred = shadow(x_batch)\n",
        "        y_test_pred = torch.log_softmax(y_test_pred, dim=1)\n",
        "        _, y_pred_tag = torch.max(y_test_pred, dim = 1)\n",
        "        y_pred_list.append(y_pred_tag.cpu().numpy())\n",
        "        y_true_list.append(y_batch.cpu().numpy())\n",
        "\n",
        "        out_x.append(x_batch.cpu().numpy())\n",
        "        out_y_pred.append(y_test_pred.cpu().numpy())\n",
        "        out_y_label.append(y_batch.cpu().numpy())\n",
        "        out.append(1)"
      ],
      "metadata": {
        "colab": {
          "base_uri": "https://localhost:8080/",
          "height": 17,
          "referenced_widgets": [
            "607c9c80fbaf451fb7f72b689c365020",
            "0f3e08669c3a4269975dd9d03da72326",
            "3ac667fbf5fe4e708995e3aa94dfe60f",
            "124b78d9241a430e95753b6b232796c4",
            "d85399f87ca1429bad7bcefdf8afc2e3",
            "35b367320b5148e59d766eb757a91847",
            "67dfaed790fb4fadaa51ca385ab515ab",
            "b26161692dbd4057ae9672907fc07e9a",
            "986cee84c57d4a17940a5f954930f328",
            "a731a2957ab445c180d16f2866002a9d",
            "ff7dbffdf0de47cba2d5066e1e3de208"
          ]
        },
        "id": "b5vbf-Ki7q-N",
        "outputId": "f15b35bf-a0ff-4e5d-8476-e280e1a6498e"
      },
      "execution_count": null,
      "outputs": [
        {
          "output_type": "display_data",
          "data": {
            "text/plain": [
              "  0%|          | 0/642 [00:00<?, ?it/s]"
            ],
            "application/vnd.jupyter.widget-view+json": {
              "version_major": 2,
              "version_minor": 0,
              "model_id": "607c9c80fbaf451fb7f72b689c365020"
            }
          },
          "metadata": {}
        }
      ]
    },
    {
      "cell_type": "code",
      "source": [
        "util.toPickle(out_y_label, attack_train_set_path.joinpath(\"{}.pkl\".format(\"y_label\")))\n",
        "util.toPickle(out_y_pred, attack_train_set_path.joinpath(\"{}.pkl\".format(\"y_pred\")))\n",
        "util.toPickle(out, attack_train_set_path.joinpath(\"{}.pkl\".format(\"target\")))"
      ],
      "metadata": {
        "id": "_5FOqOsy7o5d"
      },
      "execution_count": null,
      "outputs": []
    },
    {
      "cell_type": "code",
      "source": [
        "if (out_y_label[0] != 0):\n",
        "    print(True)"
      ],
      "metadata": {
        "id": "Zf6YMW0LFwWJ"
      },
      "execution_count": null,
      "outputs": []
    },
    {
      "cell_type": "markdown",
      "source": [
        "# Partition"
      ],
      "metadata": {
        "id": "yUc08dLLFmvu"
      }
    },
    {
      "cell_type": "code",
      "source": [
        "no_covid_y_pred = []\n",
        "no_covid_target = []\n",
        "\n",
        "covid_y_pred = []\n",
        "covid_target = []\n",
        "\n",
        "\n",
        "for label, pred, target in zip(out_y_label, out_y_pred, out):\n",
        "    if label == 0:\n",
        "        no_covid_y_pred.append(pred)\n",
        "        no_covid_target.append(target)\n",
        "    else:\n",
        "        covid_y_pred.append(pred)\n",
        "        covid_target.append(target)"
      ],
      "metadata": {
        "id": "Qw0eBkMDE77f"
      },
      "execution_count": null,
      "outputs": []
    },
    {
      "cell_type": "code",
      "source": [
        "partition_path = attack_train_set_path.joinpath(\"partition\")\n",
        "\n",
        "util.toPickle(no_covid_y_pred, partition_path.joinpath(\"{}.pkl\".format(\"no_covid_y_pred\")))\n",
        "util.toPickle(no_covid_target, partition_path.joinpath(\"{}.pkl\".format(\"no_covid_target\")))\n",
        "\n",
        "util.toPickle(covid_y_pred, partition_path.joinpath(\"{}.pkl\".format(\"covid_y_pred\")))\n",
        "util.toPickle(covid_target, partition_path.joinpath(\"{}.pkl\".format(\"covid_target\")))"
      ],
      "metadata": {
        "id": "UjzGkOJtFgkO"
      },
      "execution_count": 82,
      "outputs": []
    }
  ]
}