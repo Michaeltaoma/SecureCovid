{
  "nbformat": 4,
  "nbformat_minor": 0,
  "metadata": {
    "colab": {
      "name": "attack_training_set.ipynb",
      "provenance": [],
      "background_execution": "on"
    },
    "kernelspec": {
      "name": "python3",
      "display_name": "Python 3"
    },
    "language_info": {
      "name": "python"
    },
    "accelerator": "GPU",
    "widgets": {
      "application/vnd.jupyter.widget-state+json": {
        "fd396a0cedbf4f2bb408a907fe6a82d5": {
          "model_module": "@jupyter-widgets/controls",
          "model_name": "HBoxModel",
          "model_module_version": "1.5.0",
          "state": {
            "_dom_classes": [],
            "_model_module": "@jupyter-widgets/controls",
            "_model_module_version": "1.5.0",
            "_model_name": "HBoxModel",
            "_view_count": null,
            "_view_module": "@jupyter-widgets/controls",
            "_view_module_version": "1.5.0",
            "_view_name": "HBoxView",
            "box_style": "",
            "children": [
              "IPY_MODEL_f66232feba714066a4151f326712ab6b",
              "IPY_MODEL_429b8c91cb424a34b412384194320144",
              "IPY_MODEL_2cd797a96a5a4e9b935491cc1fac4243"
            ],
            "layout": "IPY_MODEL_e413b4521fe74465baa61da7d5bd0927"
          }
        },
        "f66232feba714066a4151f326712ab6b": {
          "model_module": "@jupyter-widgets/controls",
          "model_name": "HTMLModel",
          "model_module_version": "1.5.0",
          "state": {
            "_dom_classes": [],
            "_model_module": "@jupyter-widgets/controls",
            "_model_module_version": "1.5.0",
            "_model_name": "HTMLModel",
            "_view_count": null,
            "_view_module": "@jupyter-widgets/controls",
            "_view_module_version": "1.5.0",
            "_view_name": "HTMLView",
            "description": "",
            "description_tooltip": null,
            "layout": "IPY_MODEL_d0038cd75eb149e9974317161240edf6",
            "placeholder": "​",
            "style": "IPY_MODEL_635c0eac9a724a498c08da3dab587c80",
            "value": " 98%"
          }
        },
        "429b8c91cb424a34b412384194320144": {
          "model_module": "@jupyter-widgets/controls",
          "model_name": "FloatProgressModel",
          "model_module_version": "1.5.0",
          "state": {
            "_dom_classes": [],
            "_model_module": "@jupyter-widgets/controls",
            "_model_module_version": "1.5.0",
            "_model_name": "FloatProgressModel",
            "_view_count": null,
            "_view_module": "@jupyter-widgets/controls",
            "_view_module_version": "1.5.0",
            "_view_name": "ProgressView",
            "bar_style": "",
            "description": "",
            "description_tooltip": null,
            "layout": "IPY_MODEL_2a5c0495173a43ac9f94331a9676858b",
            "max": 200,
            "min": 0,
            "orientation": "horizontal",
            "style": "IPY_MODEL_bb02284135c0441d905fb7771f15cf2e",
            "value": 200
          }
        },
        "2cd797a96a5a4e9b935491cc1fac4243": {
          "model_module": "@jupyter-widgets/controls",
          "model_name": "HTMLModel",
          "model_module_version": "1.5.0",
          "state": {
            "_dom_classes": [],
            "_model_module": "@jupyter-widgets/controls",
            "_model_module_version": "1.5.0",
            "_model_name": "HTMLModel",
            "_view_count": null,
            "_view_module": "@jupyter-widgets/controls",
            "_view_module_version": "1.5.0",
            "_view_name": "HTMLView",
            "description": "",
            "description_tooltip": null,
            "layout": "IPY_MODEL_10e00f3e7c3e49f991a5880d9ed1483b",
            "placeholder": "​",
            "style": "IPY_MODEL_af41890eeb2e414bbc016e0bc0534c36",
            "value": " 197/200 [00:06&lt;00:00, 35.40it/s]"
          }
        },
        "e413b4521fe74465baa61da7d5bd0927": {
          "model_module": "@jupyter-widgets/base",
          "model_name": "LayoutModel",
          "model_module_version": "1.2.0",
          "state": {
            "_model_module": "@jupyter-widgets/base",
            "_model_module_version": "1.2.0",
            "_model_name": "LayoutModel",
            "_view_count": null,
            "_view_module": "@jupyter-widgets/base",
            "_view_module_version": "1.2.0",
            "_view_name": "LayoutView",
            "align_content": null,
            "align_items": null,
            "align_self": null,
            "border": null,
            "bottom": null,
            "display": null,
            "flex": null,
            "flex_flow": null,
            "grid_area": null,
            "grid_auto_columns": null,
            "grid_auto_flow": null,
            "grid_auto_rows": null,
            "grid_column": null,
            "grid_gap": null,
            "grid_row": null,
            "grid_template_areas": null,
            "grid_template_columns": null,
            "grid_template_rows": null,
            "height": null,
            "justify_content": null,
            "justify_items": null,
            "left": null,
            "margin": null,
            "max_height": null,
            "max_width": null,
            "min_height": null,
            "min_width": null,
            "object_fit": null,
            "object_position": null,
            "order": null,
            "overflow": null,
            "overflow_x": null,
            "overflow_y": null,
            "padding": null,
            "right": null,
            "top": null,
            "visibility": null,
            "width": null
          }
        },
        "d0038cd75eb149e9974317161240edf6": {
          "model_module": "@jupyter-widgets/base",
          "model_name": "LayoutModel",
          "model_module_version": "1.2.0",
          "state": {
            "_model_module": "@jupyter-widgets/base",
            "_model_module_version": "1.2.0",
            "_model_name": "LayoutModel",
            "_view_count": null,
            "_view_module": "@jupyter-widgets/base",
            "_view_module_version": "1.2.0",
            "_view_name": "LayoutView",
            "align_content": null,
            "align_items": null,
            "align_self": null,
            "border": null,
            "bottom": null,
            "display": null,
            "flex": null,
            "flex_flow": null,
            "grid_area": null,
            "grid_auto_columns": null,
            "grid_auto_flow": null,
            "grid_auto_rows": null,
            "grid_column": null,
            "grid_gap": null,
            "grid_row": null,
            "grid_template_areas": null,
            "grid_template_columns": null,
            "grid_template_rows": null,
            "height": null,
            "justify_content": null,
            "justify_items": null,
            "left": null,
            "margin": null,
            "max_height": null,
            "max_width": null,
            "min_height": null,
            "min_width": null,
            "object_fit": null,
            "object_position": null,
            "order": null,
            "overflow": null,
            "overflow_x": null,
            "overflow_y": null,
            "padding": null,
            "right": null,
            "top": null,
            "visibility": null,
            "width": null
          }
        },
        "635c0eac9a724a498c08da3dab587c80": {
          "model_module": "@jupyter-widgets/controls",
          "model_name": "DescriptionStyleModel",
          "model_module_version": "1.5.0",
          "state": {
            "_model_module": "@jupyter-widgets/controls",
            "_model_module_version": "1.5.0",
            "_model_name": "DescriptionStyleModel",
            "_view_count": null,
            "_view_module": "@jupyter-widgets/base",
            "_view_module_version": "1.2.0",
            "_view_name": "StyleView",
            "description_width": ""
          }
        },
        "2a5c0495173a43ac9f94331a9676858b": {
          "model_module": "@jupyter-widgets/base",
          "model_name": "LayoutModel",
          "model_module_version": "1.2.0",
          "state": {
            "_model_module": "@jupyter-widgets/base",
            "_model_module_version": "1.2.0",
            "_model_name": "LayoutModel",
            "_view_count": null,
            "_view_module": "@jupyter-widgets/base",
            "_view_module_version": "1.2.0",
            "_view_name": "LayoutView",
            "align_content": null,
            "align_items": null,
            "align_self": null,
            "border": null,
            "bottom": null,
            "display": null,
            "flex": null,
            "flex_flow": null,
            "grid_area": null,
            "grid_auto_columns": null,
            "grid_auto_flow": null,
            "grid_auto_rows": null,
            "grid_column": null,
            "grid_gap": null,
            "grid_row": null,
            "grid_template_areas": null,
            "grid_template_columns": null,
            "grid_template_rows": null,
            "height": null,
            "justify_content": null,
            "justify_items": null,
            "left": null,
            "margin": null,
            "max_height": null,
            "max_width": null,
            "min_height": null,
            "min_width": null,
            "object_fit": null,
            "object_position": null,
            "order": null,
            "overflow": null,
            "overflow_x": null,
            "overflow_y": null,
            "padding": null,
            "right": null,
            "top": null,
            "visibility": null,
            "width": null
          }
        },
        "bb02284135c0441d905fb7771f15cf2e": {
          "model_module": "@jupyter-widgets/controls",
          "model_name": "ProgressStyleModel",
          "model_module_version": "1.5.0",
          "state": {
            "_model_module": "@jupyter-widgets/controls",
            "_model_module_version": "1.5.0",
            "_model_name": "ProgressStyleModel",
            "_view_count": null,
            "_view_module": "@jupyter-widgets/base",
            "_view_module_version": "1.2.0",
            "_view_name": "StyleView",
            "bar_color": null,
            "description_width": ""
          }
        },
        "10e00f3e7c3e49f991a5880d9ed1483b": {
          "model_module": "@jupyter-widgets/base",
          "model_name": "LayoutModel",
          "model_module_version": "1.2.0",
          "state": {
            "_model_module": "@jupyter-widgets/base",
            "_model_module_version": "1.2.0",
            "_model_name": "LayoutModel",
            "_view_count": null,
            "_view_module": "@jupyter-widgets/base",
            "_view_module_version": "1.2.0",
            "_view_name": "LayoutView",
            "align_content": null,
            "align_items": null,
            "align_self": null,
            "border": null,
            "bottom": null,
            "display": null,
            "flex": null,
            "flex_flow": null,
            "grid_area": null,
            "grid_auto_columns": null,
            "grid_auto_flow": null,
            "grid_auto_rows": null,
            "grid_column": null,
            "grid_gap": null,
            "grid_row": null,
            "grid_template_areas": null,
            "grid_template_columns": null,
            "grid_template_rows": null,
            "height": null,
            "justify_content": null,
            "justify_items": null,
            "left": null,
            "margin": null,
            "max_height": null,
            "max_width": null,
            "min_height": null,
            "min_width": null,
            "object_fit": null,
            "object_position": null,
            "order": null,
            "overflow": null,
            "overflow_x": null,
            "overflow_y": null,
            "padding": null,
            "right": null,
            "top": null,
            "visibility": null,
            "width": null
          }
        },
        "af41890eeb2e414bbc016e0bc0534c36": {
          "model_module": "@jupyter-widgets/controls",
          "model_name": "DescriptionStyleModel",
          "model_module_version": "1.5.0",
          "state": {
            "_model_module": "@jupyter-widgets/controls",
            "_model_module_version": "1.5.0",
            "_model_name": "DescriptionStyleModel",
            "_view_count": null,
            "_view_module": "@jupyter-widgets/base",
            "_view_module_version": "1.2.0",
            "_view_name": "StyleView",
            "description_width": ""
          }
        },
        "466eed6616284cb2b15d6f5827e3282a": {
          "model_module": "@jupyter-widgets/controls",
          "model_name": "HBoxModel",
          "model_module_version": "1.5.0",
          "state": {
            "_dom_classes": [],
            "_model_module": "@jupyter-widgets/controls",
            "_model_module_version": "1.5.0",
            "_model_name": "HBoxModel",
            "_view_count": null,
            "_view_module": "@jupyter-widgets/controls",
            "_view_module_version": "1.5.0",
            "_view_name": "HBoxView",
            "box_style": "",
            "children": [
              "IPY_MODEL_d70828f957df4c35b7314d6063e04a83",
              "IPY_MODEL_e7945189e3fa463cbb402ca3b4a07759",
              "IPY_MODEL_d9a73b875ab84ec881786838df225434"
            ],
            "layout": "IPY_MODEL_8d234df821ce4c02994cfe1b5bafb33b"
          }
        },
        "d70828f957df4c35b7314d6063e04a83": {
          "model_module": "@jupyter-widgets/controls",
          "model_name": "HTMLModel",
          "model_module_version": "1.5.0",
          "state": {
            "_dom_classes": [],
            "_model_module": "@jupyter-widgets/controls",
            "_model_module_version": "1.5.0",
            "_model_name": "HTMLModel",
            "_view_count": null,
            "_view_module": "@jupyter-widgets/controls",
            "_view_module_version": "1.5.0",
            "_view_name": "HTMLView",
            "description": "",
            "description_tooltip": null,
            "layout": "IPY_MODEL_c5b518d4563040629b152dbf218eaf3b",
            "placeholder": "​",
            "style": "IPY_MODEL_9b6787a7b9da4d0db07634e5548740c0",
            "value": "100%"
          }
        },
        "e7945189e3fa463cbb402ca3b4a07759": {
          "model_module": "@jupyter-widgets/controls",
          "model_name": "FloatProgressModel",
          "model_module_version": "1.5.0",
          "state": {
            "_dom_classes": [],
            "_model_module": "@jupyter-widgets/controls",
            "_model_module_version": "1.5.0",
            "_model_name": "FloatProgressModel",
            "_view_count": null,
            "_view_module": "@jupyter-widgets/controls",
            "_view_module_version": "1.5.0",
            "_view_name": "ProgressView",
            "bar_style": "",
            "description": "",
            "description_tooltip": null,
            "layout": "IPY_MODEL_8114a7e712fe424f82979d3d555685e5",
            "max": 642,
            "min": 0,
            "orientation": "horizontal",
            "style": "IPY_MODEL_fd70172aef2d4cd6a291f6e4b91ca41e",
            "value": 642
          }
        },
        "d9a73b875ab84ec881786838df225434": {
          "model_module": "@jupyter-widgets/controls",
          "model_name": "HTMLModel",
          "model_module_version": "1.5.0",
          "state": {
            "_dom_classes": [],
            "_model_module": "@jupyter-widgets/controls",
            "_model_module_version": "1.5.0",
            "_model_name": "HTMLModel",
            "_view_count": null,
            "_view_module": "@jupyter-widgets/controls",
            "_view_module_version": "1.5.0",
            "_view_name": "HTMLView",
            "description": "",
            "description_tooltip": null,
            "layout": "IPY_MODEL_7d938ea5e82e4023a075f1dc702c560b",
            "placeholder": "​",
            "style": "IPY_MODEL_7356dfd46572436194a59f0abb5d40a9",
            "value": " 641/642 [00:38&lt;00:00, 15.93it/s]"
          }
        },
        "8d234df821ce4c02994cfe1b5bafb33b": {
          "model_module": "@jupyter-widgets/base",
          "model_name": "LayoutModel",
          "model_module_version": "1.2.0",
          "state": {
            "_model_module": "@jupyter-widgets/base",
            "_model_module_version": "1.2.0",
            "_model_name": "LayoutModel",
            "_view_count": null,
            "_view_module": "@jupyter-widgets/base",
            "_view_module_version": "1.2.0",
            "_view_name": "LayoutView",
            "align_content": null,
            "align_items": null,
            "align_self": null,
            "border": null,
            "bottom": null,
            "display": null,
            "flex": null,
            "flex_flow": null,
            "grid_area": null,
            "grid_auto_columns": null,
            "grid_auto_flow": null,
            "grid_auto_rows": null,
            "grid_column": null,
            "grid_gap": null,
            "grid_row": null,
            "grid_template_areas": null,
            "grid_template_columns": null,
            "grid_template_rows": null,
            "height": null,
            "justify_content": null,
            "justify_items": null,
            "left": null,
            "margin": null,
            "max_height": null,
            "max_width": null,
            "min_height": null,
            "min_width": null,
            "object_fit": null,
            "object_position": null,
            "order": null,
            "overflow": null,
            "overflow_x": null,
            "overflow_y": null,
            "padding": null,
            "right": null,
            "top": null,
            "visibility": null,
            "width": null
          }
        },
        "c5b518d4563040629b152dbf218eaf3b": {
          "model_module": "@jupyter-widgets/base",
          "model_name": "LayoutModel",
          "model_module_version": "1.2.0",
          "state": {
            "_model_module": "@jupyter-widgets/base",
            "_model_module_version": "1.2.0",
            "_model_name": "LayoutModel",
            "_view_count": null,
            "_view_module": "@jupyter-widgets/base",
            "_view_module_version": "1.2.0",
            "_view_name": "LayoutView",
            "align_content": null,
            "align_items": null,
            "align_self": null,
            "border": null,
            "bottom": null,
            "display": null,
            "flex": null,
            "flex_flow": null,
            "grid_area": null,
            "grid_auto_columns": null,
            "grid_auto_flow": null,
            "grid_auto_rows": null,
            "grid_column": null,
            "grid_gap": null,
            "grid_row": null,
            "grid_template_areas": null,
            "grid_template_columns": null,
            "grid_template_rows": null,
            "height": null,
            "justify_content": null,
            "justify_items": null,
            "left": null,
            "margin": null,
            "max_height": null,
            "max_width": null,
            "min_height": null,
            "min_width": null,
            "object_fit": null,
            "object_position": null,
            "order": null,
            "overflow": null,
            "overflow_x": null,
            "overflow_y": null,
            "padding": null,
            "right": null,
            "top": null,
            "visibility": null,
            "width": null
          }
        },
        "9b6787a7b9da4d0db07634e5548740c0": {
          "model_module": "@jupyter-widgets/controls",
          "model_name": "DescriptionStyleModel",
          "model_module_version": "1.5.0",
          "state": {
            "_model_module": "@jupyter-widgets/controls",
            "_model_module_version": "1.5.0",
            "_model_name": "DescriptionStyleModel",
            "_view_count": null,
            "_view_module": "@jupyter-widgets/base",
            "_view_module_version": "1.2.0",
            "_view_name": "StyleView",
            "description_width": ""
          }
        },
        "8114a7e712fe424f82979d3d555685e5": {
          "model_module": "@jupyter-widgets/base",
          "model_name": "LayoutModel",
          "model_module_version": "1.2.0",
          "state": {
            "_model_module": "@jupyter-widgets/base",
            "_model_module_version": "1.2.0",
            "_model_name": "LayoutModel",
            "_view_count": null,
            "_view_module": "@jupyter-widgets/base",
            "_view_module_version": "1.2.0",
            "_view_name": "LayoutView",
            "align_content": null,
            "align_items": null,
            "align_self": null,
            "border": null,
            "bottom": null,
            "display": null,
            "flex": null,
            "flex_flow": null,
            "grid_area": null,
            "grid_auto_columns": null,
            "grid_auto_flow": null,
            "grid_auto_rows": null,
            "grid_column": null,
            "grid_gap": null,
            "grid_row": null,
            "grid_template_areas": null,
            "grid_template_columns": null,
            "grid_template_rows": null,
            "height": null,
            "justify_content": null,
            "justify_items": null,
            "left": null,
            "margin": null,
            "max_height": null,
            "max_width": null,
            "min_height": null,
            "min_width": null,
            "object_fit": null,
            "object_position": null,
            "order": null,
            "overflow": null,
            "overflow_x": null,
            "overflow_y": null,
            "padding": null,
            "right": null,
            "top": null,
            "visibility": null,
            "width": null
          }
        },
        "fd70172aef2d4cd6a291f6e4b91ca41e": {
          "model_module": "@jupyter-widgets/controls",
          "model_name": "ProgressStyleModel",
          "model_module_version": "1.5.0",
          "state": {
            "_model_module": "@jupyter-widgets/controls",
            "_model_module_version": "1.5.0",
            "_model_name": "ProgressStyleModel",
            "_view_count": null,
            "_view_module": "@jupyter-widgets/base",
            "_view_module_version": "1.2.0",
            "_view_name": "StyleView",
            "bar_color": null,
            "description_width": ""
          }
        },
        "7d938ea5e82e4023a075f1dc702c560b": {
          "model_module": "@jupyter-widgets/base",
          "model_name": "LayoutModel",
          "model_module_version": "1.2.0",
          "state": {
            "_model_module": "@jupyter-widgets/base",
            "_model_module_version": "1.2.0",
            "_model_name": "LayoutModel",
            "_view_count": null,
            "_view_module": "@jupyter-widgets/base",
            "_view_module_version": "1.2.0",
            "_view_name": "LayoutView",
            "align_content": null,
            "align_items": null,
            "align_self": null,
            "border": null,
            "bottom": null,
            "display": null,
            "flex": null,
            "flex_flow": null,
            "grid_area": null,
            "grid_auto_columns": null,
            "grid_auto_flow": null,
            "grid_auto_rows": null,
            "grid_column": null,
            "grid_gap": null,
            "grid_row": null,
            "grid_template_areas": null,
            "grid_template_columns": null,
            "grid_template_rows": null,
            "height": null,
            "justify_content": null,
            "justify_items": null,
            "left": null,
            "margin": null,
            "max_height": null,
            "max_width": null,
            "min_height": null,
            "min_width": null,
            "object_fit": null,
            "object_position": null,
            "order": null,
            "overflow": null,
            "overflow_x": null,
            "overflow_y": null,
            "padding": null,
            "right": null,
            "top": null,
            "visibility": null,
            "width": null
          }
        },
        "7356dfd46572436194a59f0abb5d40a9": {
          "model_module": "@jupyter-widgets/controls",
          "model_name": "DescriptionStyleModel",
          "model_module_version": "1.5.0",
          "state": {
            "_model_module": "@jupyter-widgets/controls",
            "_model_module_version": "1.5.0",
            "_model_name": "DescriptionStyleModel",
            "_view_count": null,
            "_view_module": "@jupyter-widgets/base",
            "_view_module_version": "1.2.0",
            "_view_name": "StyleView",
            "description_width": ""
          }
        }
      }
    }
  },
  "cells": [
    {
      "cell_type": "code",
      "execution_count": 1,
      "metadata": {
        "colab": {
          "base_uri": "https://localhost:8080/"
        },
        "id": "y_Bx1w18TzGW",
        "outputId": "298a9331-c220-48d2-e178-5670de9594bf"
      },
      "outputs": [
        {
          "output_type": "stream",
          "name": "stdout",
          "text": [
            "Mounted at /content/drive\n"
          ]
        }
      ],
      "source": [
        "from google.colab import drive\n",
        "\n",
        "drive.mount('/content/drive')"
      ]
    },
    {
      "cell_type": "markdown",
      "source": [
        "## Prepare for datapath"
      ],
      "metadata": {
        "id": "RoyCcPRHV9Uw"
      }
    },
    {
      "cell_type": "code",
      "source": [
        "import pandas as pd\n",
        "import shutil\n",
        "import os\n",
        "\n",
        "!git clone https://github.com/ieee8023/covid-chestxray-dataset.git\n",
        "\n",
        "!unzip -q '/content/drive/MyDrive/MEDICAL/Labeled Optical Coherence Tomography (OCT) and Chest X-Ray Images for Classification.zip' -d '/content/d/'\n",
        "!unzip -q '/content/d/ChestXRay2017.zip' -d '/content/d/dd/'\n",
        "\n",
        "df = pd.read_csv('./covid-chestxray-dataset/metadata.csv')\n",
        "selected_df = df[df.finding==\"Pneumonia/Viral/COVID-19\"]\n",
        "selected_df = selected_df[(selected_df.view == \"AP\") | (selected_df.view == \"PA\")]\n",
        "\n",
        "df = pd.read_csv('./covid-chestxray-dataset/metadata.csv')\n",
        "selected_df = df[df.finding==\"Pneumonia/Viral/COVID-19\"]\n",
        "selected_df = selected_df[(selected_df.view == \"AP\") | (selected_df.view == \"PA\")]\n",
        "\n",
        "images = selected_df.filename.values.tolist()\n",
        "\n",
        "os.makedirs('./COVID19-DATASET/train/covid19')\n",
        "os.makedirs('./COVID19-DATASET/train/normal')\n",
        "\n",
        "COVID_PATH = './COVID19-DATASET/train/covid19'\n",
        "NORMAL_PATH = './COVID19-DATASET/train/normal'\n",
        "\n",
        "for image in images:\n",
        "    shutil.copy(os.path.join('./covid-chestxray-dataset/images', image), os.path.join(COVID_PATH, image))\n",
        "\n",
        "for image in os.listdir('/content/d/dd/chest_xray/train/NORMAL')[:300]:\n",
        "    shutil.copy(os.path.join('/content/d/dd/chest_xray/train/NORMAL', image), os.path.join(NORMAL_PATH, image))\n",
        "\n",
        "TRAIN_PATH = '/content/COVID19-DATASET/train'\n",
        "\n",
        "print(\"TRAIN_PATH: {}\".format(TRAIN_PATH))\n",
        "\n",
        "!unzip -q '/content/drive/MyDrive/MEDICAL/COVID-19_Radiography_Database.zip' -d '/content/covid19-radiography-database/'\n",
        "\n",
        "os.makedirs('./COVID19-DATASET/test/covid19')\n",
        "os.makedirs('./COVID19-DATASET/test/normal')\n",
        "\n",
        "COVID_TEST = '/content/covid19-radiography-database/COVID-19_Radiography_Dataset/COVID'\n",
        "NORMAL_TEST = '/content/covid19-radiography-database/COVID-19_Radiography_Dataset/Normal'\n",
        "\n",
        "for image in os.listdir(COVID_TEST)[:100]:\n",
        "    shutil.copy(os.path.join(COVID_TEST, image), os.path.join('./COVID19-DATASET/test/covid19', image))\n",
        "for image in os.listdir(NORMAL_TEST)[:100]:\n",
        "    shutil.copy(os.path.join(NORMAL_TEST, image), os.path.join('./COVID19-DATASET/test/normal', image))\n",
        "\n",
        "TEST_PATH = '/content/COVID19-DATASET/test'\n"
      ],
      "metadata": {
        "colab": {
          "base_uri": "https://localhost:8080/"
        },
        "id": "ukyzf1p0WAxZ",
        "outputId": "3c4c35c3-537a-49f7-dcb1-14fe94d56bca"
      },
      "execution_count": 2,
      "outputs": [
        {
          "output_type": "stream",
          "name": "stdout",
          "text": [
            "Cloning into 'covid-chestxray-dataset'...\n",
            "remote: Enumerating objects: 3641, done.\u001b[K\n",
            "remote: Total 3641 (delta 0), reused 0 (delta 0), pack-reused 3641\u001b[K\n",
            "Receiving objects: 100% (3641/3641), 632.96 MiB | 36.01 MiB/s, done.\n",
            "Resolving deltas: 100% (1450/1450), done.\n",
            "Checking out files: 100% (1174/1174), done.\n",
            "TRAIN_PATH: /content/COVID19-DATASET/train\n"
          ]
        }
      ]
    },
    {
      "cell_type": "markdown",
      "source": [
        "# Prepare for code"
      ],
      "metadata": {
        "id": "fkLqDTXIJrio"
      }
    },
    {
      "cell_type": "code",
      "source": [
        "import sys\n",
        "!git clone https://github.com/Michaeltaoma/SecureCovid.git\n",
        "%cd SecureCovid\n",
        "!git checkout dev\n",
        "sys.path.append(\"/content/SecureCovid\")"
      ],
      "metadata": {
        "colab": {
          "base_uri": "https://localhost:8080/"
        },
        "id": "7K_KcekGJmQ_",
        "outputId": "641bb993-a355-42a4-9ff8-de16a17649b6"
      },
      "execution_count": 3,
      "outputs": [
        {
          "output_type": "stream",
          "name": "stdout",
          "text": [
            "Cloning into 'SecureCovid'...\n",
            "remote: Enumerating objects: 110, done.\u001b[K\n",
            "remote: Counting objects: 100% (110/110), done.\u001b[K\n",
            "remote: Compressing objects: 100% (78/78), done.\u001b[K\n",
            "remote: Total 110 (delta 53), reused 69 (delta 25), pack-reused 0\u001b[K\n",
            "Receiving objects: 100% (110/110), 21.87 KiB | 10.94 MiB/s, done.\n",
            "Resolving deltas: 100% (53/53), done.\n",
            "/content/SecureCovid\n",
            "Branch 'dev' set up to track remote branch 'dev' from 'origin'.\n",
            "Switched to a new branch 'dev'\n"
          ]
        }
      ]
    },
    {
      "cell_type": "markdown",
      "source": [
        "# import"
      ],
      "metadata": {
        "id": "MKf-vtJnJunk"
      }
    },
    {
      "cell_type": "code",
      "source": [
        "from model import pretrained\n",
        "import util\n",
        "\n",
        "import numpy as np\n",
        "\n",
        "import torch\n",
        "import torchvision\n",
        "import torch.nn as nn\n",
        "import torch.optim as optim\n",
        "from torchvision import datasets, models, transforms\n",
        "from torch.utils.data.sampler import SubsetRandomSampler\n",
        "\n",
        "import matplotlib.pyplot as plt\n",
        "import time\n",
        "import copy\n",
        "from random import shuffle\n",
        "\n",
        "import tqdm.notebook as tqdm\n",
        "\n",
        "import sklearn\n",
        "from sklearn.metrics import accuracy_score, cohen_kappa_score\n",
        "from sklearn.metrics import classification_report\n",
        "from PIL import Image\n",
        "import cv2"
      ],
      "metadata": {
        "id": "HOn0BQkCVS_I"
      },
      "execution_count": 4,
      "outputs": []
    },
    {
      "cell_type": "code",
      "source": [
        "!python main.py --name \"withOneFifty\""
      ],
      "metadata": {
        "colab": {
          "base_uri": "https://localhost:8080/"
        },
        "id": "vgRPnYkNWnq8",
        "outputId": "91adbdde-9637-4a09-d75b-520331c398af"
      },
      "execution_count": 5,
      "outputs": [
        {
          "output_type": "stream",
          "name": "stdout",
          "text": [
            "Training on GPU... Ready for HyperJump...\n",
            "Downloading: \"https://download.pytorch.org/models/densenet121-a639ec97.pth\" to /root/.cache/torch/hub/checkpoints/densenet121-a639ec97.pth\n",
            "100% 30.8M/30.8M [00:00<00:00, 70.1MB/s]\n",
            "Epoch 1/10\n",
            "----------\n",
            "train:   0%|          | 0/65 [00:00<?, ?it/s]\n",
            "train Loss: 0.3917 | train Accuracy: 0.9027\n",
            "val:   0%|          | 0/16 [00:00<?, ?it/s]\n",
            "val Loss: 0.1649 | val Accuracy: 0.9609 | Kappa Score: 0.9196\n",
            "Val loss Decreased from inf to 0.1649 \n",
            "Saving Weights... \n",
            "\n",
            "Epoch 2/10\n",
            "----------\n",
            "train:   0%|          | 0/65 [00:00<?, ?it/s]\n",
            "/usr/local/lib/python3.7/dist-packages/sklearn/metrics/_classification.py:663: RuntimeWarning: invalid value encountered in true_divide\n",
            "  k = np.sum(w_mat * confusion) / np.sum(w_mat * expected)\n",
            "train Loss: 0.2144 | train Accuracy: 0.9377\n",
            "val:   0%|          | 0/16 [00:00<?, ?it/s]\n",
            "val Loss: 0.1594 | val Accuracy: 0.9609 | Kappa Score: 0.9080\n",
            "Val loss Decreased from 0.1649 to 0.1594 \n",
            "Saving Weights... \n",
            "\n",
            "Epoch 3/10\n",
            "----------\n",
            "train:   0%|          | 0/65 [00:00<?, ?it/s]\n",
            "train Loss: 0.2093 | train Accuracy: 0.9222\n",
            "val:   0%|          | 0/16 [00:00<?, ?it/s]\n",
            "val Loss: 0.1639 | val Accuracy: 0.9531 | Kappa Score: 0.8996\n",
            "\n",
            "Epoch 4/10\n",
            "----------\n",
            "train:   0%|          | 0/65 [00:00<?, ?it/s]\n",
            "train Loss: 0.2435 | train Accuracy: 0.9222\n",
            "val:   0%|          | 0/16 [00:00<?, ?it/s]\n",
            "/usr/local/lib/python3.7/dist-packages/sklearn/metrics/_classification.py:663: RuntimeWarning: invalid value encountered in true_divide\n",
            "  k = np.sum(w_mat * confusion) / np.sum(w_mat * expected)\n",
            "val Loss: 0.1554 | val Accuracy: 0.9531 | Kappa Score: nan\n",
            "Val loss Decreased from 0.1594 to 0.1554 \n",
            "Saving Weights... \n",
            "\n",
            "Epoch 5/10\n",
            "----------\n",
            "train:   0%|          | 0/65 [00:00<?, ?it/s]\n",
            "train Loss: 0.2026 | train Accuracy: 0.9202\n",
            "val:   0%|          | 0/16 [00:00<?, ?it/s]\n",
            "val Loss: 0.1691 | val Accuracy: 0.9375 | Kappa Score: 0.8634\n",
            "\n",
            "Epoch 6/10\n",
            "----------\n",
            "train:   0%|          | 0/65 [00:00<?, ?it/s]\n",
            "train Loss: 0.2047 | train Accuracy: 0.9377\n",
            "val:   0%|          | 0/16 [00:00<?, ?it/s]\n",
            "val Loss: 0.1580 | val Accuracy: 0.9531 | Kappa Score: 0.8926\n",
            "\n",
            "Epoch 7/10\n",
            "----------\n",
            "train:   0%|          | 0/65 [00:00<?, ?it/s]\n",
            "train Loss: 0.2145 | train Accuracy: 0.9241\n",
            "val:   0%|          | 0/16 [00:00<?, ?it/s]\n",
            "val Loss: 0.1611 | val Accuracy: 0.9531 | Kappa Score: 0.8968\n",
            "\n",
            "Epoch 8/10\n",
            "----------\n",
            "train:   0%|          | 0/65 [00:00<?, ?it/s]\n",
            "/usr/local/lib/python3.7/dist-packages/sklearn/metrics/_classification.py:663: RuntimeWarning: invalid value encountered in true_divide\n",
            "  k = np.sum(w_mat * confusion) / np.sum(w_mat * expected)\n",
            "train Loss: 0.1807 | train Accuracy: 0.9436\n",
            "val:   0%|          | 0/16 [00:00<?, ?it/s]\n",
            "val Loss: 0.1610 | val Accuracy: 0.9609 | Kappa Score: 0.8915\n",
            "\n",
            "Epoch 9/10\n",
            "----------\n",
            "train:   0%|          | 0/65 [00:00<?, ?it/s]\n",
            "train Loss: 0.2571 | train Accuracy: 0.9358\n",
            "val:   0%|          | 0/16 [00:00<?, ?it/s]\n",
            "val Loss: 0.1628 | val Accuracy: 0.9453 | Kappa Score: 0.8615\n",
            "\n",
            "Epoch 10/10\n",
            "----------\n",
            "train:   0%|          | 0/65 [00:00<?, ?it/s]\n",
            "/usr/local/lib/python3.7/dist-packages/sklearn/metrics/_classification.py:663: RuntimeWarning: invalid value encountered in true_divide\n",
            "  k = np.sum(w_mat * confusion) / np.sum(w_mat * expected)\n",
            "train Loss: 0.2079 | train Accuracy: 0.9358\n",
            "val:   0%|          | 0/16 [00:00<?, ?it/s]\n",
            "val Loss: 0.1910 | val Accuracy: 0.9531 | Kappa Score: 0.8983\n",
            "\n",
            "Training complete in 4m 30s\n",
            "Best val loss: 0.1554\n",
            "Model saved to /content/drive/MyDrive/MEDICAL/trained/withOneFifty_1647134337.836162.pth\n"
          ]
        }
      ]
    },
    {
      "cell_type": "markdown",
      "source": [
        "# Load the trained model\n",
        "\n",
        "So that <code>shadow</code> is the model to be used"
      ],
      "metadata": {
        "id": "nxA5JlvdYHNx"
      }
    },
    {
      "cell_type": "code",
      "source": [
        "import preprocess\n",
        "import train\n",
        "from model import pretrained\n",
        "\n",
        "trainloader, valloader, dataset_size = preprocess.load_split_train_test(TRAIN_PATH, .2)\n",
        "class_names = trainloader.dataset.classes\n",
        "dataloaders = {\"train\": trainloader, \"val\": valloader}\n",
        "device = torch.device(\"cuda:0\") if torch.cuda.is_available() else torch.device(\"cpu\")"
      ],
      "metadata": {
        "id": "IB0R7zDDYGXS"
      },
      "execution_count": 6,
      "outputs": []
    },
    {
      "cell_type": "code",
      "source": [
        "saved_path = \"/content/drive/MyDrive/MEDICAL/trained/withOneFifty_1647134337.836162.pth\"\n",
        "shadow = pretrained.dense_shadow(device, class_names)\n",
        "shadow.load_state_dict(torch.load(saved_path))\n",
        "# shadow.eval()"
      ],
      "metadata": {
        "colab": {
          "base_uri": "https://localhost:8080/"
        },
        "id": "RQBlrz1GVV9E",
        "outputId": "88938cc6-e40c-42c2-f14c-e622c42e869c"
      },
      "execution_count": 7,
      "outputs": [
        {
          "output_type": "execute_result",
          "data": {
            "text/plain": [
              "<All keys matched successfully>"
            ]
          },
          "metadata": {},
          "execution_count": 7
        }
      ]
    },
    {
      "cell_type": "markdown",
      "source": [
        "# Gather Attack train set"
      ],
      "metadata": {
        "id": "u2zJvDuquUkA"
      }
    },
    {
      "cell_type": "code",
      "source": [
        "from pathlib import Path\n",
        "attack_train_set_path = Path(\"/content/drive/MyDrive/MEDICAL/attack_train\")"
      ],
      "metadata": {
        "id": "Y3NFgpQz9Nce"
      },
      "execution_count": 29,
      "outputs": []
    },
    {
      "cell_type": "code",
      "source": [
        "test_images = datasets.ImageFolder(TEST_PATH, transform=preprocess.test_transforms)\n",
        "testloader = torch.utils.data.DataLoader(test_images, batch_size = 1)"
      ],
      "metadata": {
        "id": "GILSlHKupqg5"
      },
      "execution_count": 8,
      "outputs": []
    },
    {
      "cell_type": "code",
      "source": [
        "y_pred_list = []\n",
        "y_true_list = []\n",
        "\n",
        "out_x = []\n",
        "out_y_pred = []\n",
        "out_y_label = []\n",
        "\n",
        "with torch.no_grad():\n",
        "    for x_batch, y_batch in tqdm.tqdm(testloader, leave=False):\n",
        "        x_batch, y_batch = x_batch.to(device), y_batch.to(device)\n",
        "        y_test_pred = shadow(x_batch)\n",
        "        y_test_pred = torch.log_softmax(y_test_pred, dim=1)\n",
        "        _, y_pred_tag = torch.max(y_test_pred, dim = 1)\n",
        "        y_pred_list.append(y_pred_tag.cpu().numpy())\n",
        "        y_true_list.append(y_batch.cpu().numpy())\n",
        "\n",
        "        out_x.append(x_batch.cpu().numpy())\n",
        "        out_y_pred.append(y_test_pred.cpu().numpy())\n",
        "        out_y_label.append(y_batch.cpu().numpy())\n",
        "\n",
        "out = [0] * len(out_x)"
      ],
      "metadata": {
        "colab": {
          "base_uri": "https://localhost:8080/",
          "height": 17,
          "referenced_widgets": [
            "fd396a0cedbf4f2bb408a907fe6a82d5",
            "f66232feba714066a4151f326712ab6b",
            "429b8c91cb424a34b412384194320144",
            "2cd797a96a5a4e9b935491cc1fac4243",
            "e413b4521fe74465baa61da7d5bd0927",
            "d0038cd75eb149e9974317161240edf6",
            "635c0eac9a724a498c08da3dab587c80",
            "2a5c0495173a43ac9f94331a9676858b",
            "bb02284135c0441d905fb7771f15cf2e",
            "10e00f3e7c3e49f991a5880d9ed1483b",
            "af41890eeb2e414bbc016e0bc0534c36"
          ]
        },
        "id": "raxy6iyVuSEQ",
        "outputId": "e966b5b7-59ac-4aa3-c8f7-a3359ae41ce5"
      },
      "execution_count": 26,
      "outputs": [
        {
          "output_type": "display_data",
          "data": {
            "text/plain": [
              "  0%|          | 0/200 [00:00<?, ?it/s]"
            ],
            "application/vnd.jupyter.widget-view+json": {
              "version_major": 2,
              "version_minor": 0,
              "model_id": "fd396a0cedbf4f2bb408a907fe6a82d5"
            }
          },
          "metadata": {}
        }
      ]
    },
    {
      "cell_type": "code",
      "source": [
        "util.toPickle(out_y_label, attack_train_set_path.joinpath(\"{}.pkl\".format(\"out_y_label\")))\n",
        "util.toPickle(out_y_pred, attack_train_set_path.joinpath(\"{}.pkl\".format(\"out_y_pred\")))\n",
        "util.toPickle(out, attack_train_set_path.joinpath(\"{}.pkl\".format(\"out\")))"
      ],
      "metadata": {
        "id": "_5FOqOsy7o5d"
      },
      "execution_count": 32,
      "outputs": []
    },
    {
      "cell_type": "code",
      "source": [
        "all_train = preprocess.load_all_train(TRAIN_PATH)\n",
        "\n",
        "y_pred_list = []\n",
        "y_true_list = []\n",
        "\n",
        "in_x = []\n",
        "in_y_pred = []\n",
        "in_y_label = []\n",
        "\n",
        "with torch.no_grad():\n",
        "    for x_batch, y_batch in tqdm.tqdm(all_train, leave=False):\n",
        "        x_batch, y_batch = x_batch.to(device), y_batch.to(device)\n",
        "        y_test_pred = shadow(x_batch)\n",
        "        y_test_pred = torch.log_softmax(y_test_pred, dim=1)\n",
        "        _, y_pred_tag = torch.max(y_test_pred, dim = 1)\n",
        "        y_pred_list.append(y_pred_tag.cpu().numpy())\n",
        "        y_true_list.append(y_batch.cpu().numpy())\n",
        "\n",
        "        in_x.append(x_batch.cpu().numpy())\n",
        "        in_y_pred.append(y_test_pred.cpu().numpy())\n",
        "        in_y_label.append(y_batch.cpu().numpy())\n",
        "\n",
        "in_label = [1] * len(in_x)"
      ],
      "metadata": {
        "colab": {
          "base_uri": "https://localhost:8080/",
          "height": 17,
          "referenced_widgets": [
            "466eed6616284cb2b15d6f5827e3282a",
            "d70828f957df4c35b7314d6063e04a83",
            "e7945189e3fa463cbb402ca3b4a07759",
            "d9a73b875ab84ec881786838df225434",
            "8d234df821ce4c02994cfe1b5bafb33b",
            "c5b518d4563040629b152dbf218eaf3b",
            "9b6787a7b9da4d0db07634e5548740c0",
            "8114a7e712fe424f82979d3d555685e5",
            "fd70172aef2d4cd6a291f6e4b91ca41e",
            "7d938ea5e82e4023a075f1dc702c560b",
            "7356dfd46572436194a59f0abb5d40a9"
          ]
        },
        "id": "b5vbf-Ki7q-N",
        "outputId": "ed734fc1-696a-4477-f0b3-6aeaefb6d461"
      },
      "execution_count": 45,
      "outputs": [
        {
          "output_type": "display_data",
          "data": {
            "text/plain": [
              "  0%|          | 0/642 [00:00<?, ?it/s]"
            ],
            "application/vnd.jupyter.widget-view+json": {
              "version_major": 2,
              "version_minor": 0,
              "model_id": "466eed6616284cb2b15d6f5827e3282a"
            }
          },
          "metadata": {}
        }
      ]
    },
    {
      "cell_type": "code",
      "source": [
        "util.toPickle(in_y_label, attack_train_set_path.joinpath(\"{}.pkl\".format(\"in_y_label\")))\n",
        "util.toPickle(in_y_pred, attack_train_set_path.joinpath(\"{}.pkl\".format(\"in_y_pred\")))\n",
        "util.toPickle(in_label, attack_train_set_path.joinpath(\"{}.pkl\".format(\"in_label\")))"
      ],
      "metadata": {
        "id": "xasNPw-4-EB1"
      },
      "execution_count": 53,
      "outputs": []
    }
  ]
}