{
  "nbformat": 4,
  "nbformat_minor": 0,
  "metadata": {
    "colab": {
      "name": "attack_train.ipynb",
      "provenance": []
    },
    "kernelspec": {
      "name": "python3",
      "display_name": "Python 3"
    },
    "language_info": {
      "name": "python"
    }
  },
  "cells": [
    {
      "cell_type": "code",
      "execution_count": 1,
      "metadata": {
        "colab": {
          "base_uri": "https://localhost:8080/"
        },
        "id": "w7Uyna2vaWgI",
        "outputId": "05053aed-1860-447d-e1b0-17efdf546556"
      },
      "outputs": [
        {
          "output_type": "stream",
          "name": "stdout",
          "text": [
            "Mounted at /content/drive\n"
          ]
        }
      ],
      "source": [
        "from google.colab import drive\n",
        "\n",
        "drive.mount('/content/drive')"
      ]
    },
    {
      "cell_type": "code",
      "source": [
        "import sys\n",
        "!git clone https://github.com/Michaeltaoma/SecureCovid.git\n",
        "%cd SecureCovid\n",
        "!git checkout dev\n",
        "sys.path.append(\"/content/SecureCovid\")"
      ],
      "metadata": {
        "colab": {
          "base_uri": "https://localhost:8080/"
        },
        "id": "f50tgltBabSq",
        "outputId": "bb59c978-803f-4233-9b79-7c787fa8ee5d"
      },
      "execution_count": 2,
      "outputs": [
        {
          "output_type": "stream",
          "name": "stdout",
          "text": [
            "Cloning into 'SecureCovid'...\n",
            "remote: Enumerating objects: 206, done.\u001b[K\n",
            "remote: Counting objects: 100% (206/206), done.\u001b[K\n",
            "remote: Compressing objects: 100% (147/147), done.\u001b[K\n",
            "remote: Total 206 (delta 105), reused 138 (delta 50), pack-reused 0\u001b[K\n",
            "Receiving objects: 100% (206/206), 85.92 KiB | 6.14 MiB/s, done.\n",
            "Resolving deltas: 100% (105/105), done.\n",
            "/content/SecureCovid\n",
            "Branch 'dev' set up to track remote branch 'dev' from 'origin'.\n",
            "Switched to a new branch 'dev'\n"
          ]
        }
      ]
    },
    {
      "cell_type": "code",
      "source": [
        "!python /content/SecureCovid/attck_train.py --input_path \"/content/drive/MyDrive/MEDICAL/attack_train/partition/no_covid_y_pred.pkl\" --target_path \"/content/drive/MyDrive/MEDICAL/attack_train/partition/no_covid_target.pkl\" --label \"no_covid\" --name \"Attack Model\""
      ],
      "metadata": {
        "colab": {
          "base_uri": "https://localhost:8080/"
        },
        "id": "Ue6QRsCGaiLG",
        "outputId": "170a41b8-be28-4ddc-9777-be270dda05de"
      },
      "execution_count": 5,
      "outputs": [
        {
          "output_type": "stream",
          "name": "stdout",
          "text": [
            "Training on CPU... May the force be with you...\n",
            "  0%|          | 0/20 [00:00<?, ?it/s]\n",
            "Epoch 00: | Train Loss: 0.59584 | Val Loss: 0.56828 | Train Acc: 72.816%| Val Acc: 75.762%\n",
            "Epoch 01: | Train Loss: 0.54582 | Val Loss: 0.59777 | Train Acc: 77.648%| Val Acc: 72.833%\n",
            "Epoch 02: | Train Loss: 0.54438 | Val Loss: 0.57044 | Train Acc: 77.560%| Val Acc: 74.214%\n",
            "Epoch 03: | Train Loss: 0.54794 | Val Loss: 0.56695 | Train Acc: 77.416%| Val Acc: 75.262%\n",
            "Epoch 04: | Train Loss: 0.54054 | Val Loss: 0.59225 | Train Acc: 77.600%| Val Acc: 75.238%\n",
            "Epoch 05: | Train Loss: 0.54203 | Val Loss: 0.57872 | Train Acc: 77.904%| Val Acc: 75.167%\n",
            "Epoch 06: | Train Loss: 0.54207 | Val Loss: 0.55847 | Train Acc: 77.720%| Val Acc: 76.214%\n",
            "Epoch 07: | Train Loss: 0.53866 | Val Loss: 0.55672 | Train Acc: 77.768%| Val Acc: 75.452%\n",
            "Epoch 08: | Train Loss: 0.53782 | Val Loss: 0.55632 | Train Acc: 77.816%| Val Acc: 76.238%\n",
            "Epoch 09: | Train Loss: 0.53949 | Val Loss: 0.56476 | Train Acc: 77.464%| Val Acc: 76.167%\n",
            "Epoch 10: | Train Loss: 0.53323 | Val Loss: 0.55662 | Train Acc: 77.784%| Val Acc: 75.643%\n",
            "Epoch 11: | Train Loss: 0.53110 | Val Loss: 0.56203 | Train Acc: 78.136%| Val Acc: 75.143%\n",
            "Epoch 12: | Train Loss: 0.53911 | Val Loss: 0.55937 | Train Acc: 77.704%| Val Acc: 76.214%\n",
            "Epoch 13: | Train Loss: 0.54478 | Val Loss: 0.55239 | Train Acc: 77.800%| Val Acc: 76.190%\n",
            "Epoch 14: | Train Loss: 0.53636 | Val Loss: 0.56674 | Train Acc: 77.944%| Val Acc: 76.262%\n",
            "Epoch 15: | Train Loss: 0.53614 | Val Loss: 0.56599 | Train Acc: 78.120%| Val Acc: 75.786%\n",
            "Epoch 16: | Train Loss: 0.53604 | Val Loss: 0.57987 | Train Acc: 78.176%| Val Acc: 74.786%\n",
            "Epoch 17: | Train Loss: 0.53268 | Val Loss: 0.57303 | Train Acc: 78.216%| Val Acc: 75.214%\n",
            "Epoch 18: | Train Loss: 0.53745 | Val Loss: 0.56504 | Train Acc: 77.920%| Val Acc: 75.690%\n",
            "Epoch 19: | Train Loss: 0.53435 | Val Loss: 0.55737 | Train Acc: 77.840%| Val Acc: 75.619%\n",
            "no_covid Attack Model saved to /content/drive/MyDrive/MEDICAL/trained/attack_model/no_covid_Attack Model_1647197915.6714754.pth\n"
          ]
        }
      ]
    }
  ]
}