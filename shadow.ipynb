{
  "nbformat": 4,
  "nbformat_minor": 0,
  "metadata": {
    "colab": {
      "name": "shadow.ipynb",
      "provenance": [],
      "background_execution": "on"
    },
    "kernelspec": {
      "name": "python3",
      "display_name": "Python 3"
    },
    "language_info": {
      "name": "python"
    },
    "accelerator": "GPU"
  },
  "cells": [
    {
      "cell_type": "code",
      "execution_count": 1,
      "metadata": {
        "colab": {
          "base_uri": "https://localhost:8080/"
        },
        "id": "SHau_GVD4SXZ",
        "outputId": "32b3ae9d-40a2-49f0-b892-2a2d2062051a"
      },
      "outputs": [
        {
          "output_type": "stream",
          "name": "stdout",
          "text": [
            "Mounted at /content/drive\n"
          ]
        }
      ],
      "source": [
        "from google.colab import drive\n",
        "\n",
        "drive.mount('/content/drive')"
      ]
    },
    {
      "cell_type": "code",
      "source": [
        "import numpy as np\n",
        "import pandas as pd\n",
        "\n",
        "import torch\n",
        "import torchvision\n",
        "import torch.nn as nn\n",
        "import torch.optim as optim\n",
        "from torchvision import datasets, models, transforms\n",
        "from torch.utils.data.sampler import SubsetRandomSampler\n",
        "\n",
        "import matplotlib.pyplot as plt\n",
        "import time\n",
        "import copy\n",
        "from random import shuffle\n",
        "\n",
        "import tqdm.notebook as tqdm\n",
        "\n",
        "import sklearn\n",
        "from sklearn.metrics import accuracy_score, cohen_kappa_score\n",
        "from sklearn.metrics import classification_report\n",
        "from PIL import Image\n",
        "import cv2\n",
        "\n",
        "import os\n",
        "import shutil"
      ],
      "metadata": {
        "id": "G5bi0kcN4UuF"
      },
      "execution_count": 2,
      "outputs": []
    },
    {
      "cell_type": "code",
      "source": [
        "!git clone https://github.com/ieee8023/covid-chestxray-dataset.git"
      ],
      "metadata": {
        "colab": {
          "base_uri": "https://localhost:8080/"
        },
        "id": "5K3DJJDE4Zq_",
        "outputId": "8d67859b-f13e-46f9-facc-8a03bdc3c403"
      },
      "execution_count": 3,
      "outputs": [
        {
          "output_type": "stream",
          "name": "stdout",
          "text": [
            "Cloning into 'covid-chestxray-dataset'...\n",
            "remote: Enumerating objects: 3641, done.\u001b[K\n",
            "remote: Total 3641 (delta 0), reused 0 (delta 0), pack-reused 3641\u001b[K\n",
            "Receiving objects: 100% (3641/3641), 632.96 MiB | 31.75 MiB/s, done.\n",
            "Resolving deltas: 100% (1450/1450), done.\n",
            "Checking out files: 100% (1174/1174), done.\n"
          ]
        }
      ]
    },
    {
      "cell_type": "code",
      "source": [
        "!unzip -q '/content/drive/MyDrive/MEDICAL/Labeled Optical Coherence Tomography (OCT) and Chest X-Ray Images for Classification.zip' -d '/content/d/'\n",
        "!unzip -q '/content/d/ChestXRay2017.zip' -d '/content/d/dd/'"
      ],
      "metadata": {
        "id": "WiT1lAPG-h3Y"
      },
      "execution_count": 4,
      "outputs": []
    },
    {
      "cell_type": "code",
      "source": [
        "df = pd.read_csv('./covid-chestxray-dataset/metadata.csv')\n",
        "selected_df = df[df.finding==\"Pneumonia/Viral/COVID-19\"]\n",
        "selected_df = selected_df[(selected_df.view == \"AP\") | (selected_df.view == \"PA\")]\n",
        "\n",
        "df = pd.read_csv('./covid-chestxray-dataset/metadata.csv')\n",
        "selected_df = df[df.finding==\"Pneumonia/Viral/COVID-19\"]\n",
        "selected_df = selected_df[(selected_df.view == \"AP\") | (selected_df.view == \"PA\")]\n",
        "\n",
        "images = selected_df.filename.values.tolist()\n",
        "\n",
        "os.makedirs('./COVID19-DATASET/train/covid19')\n",
        "os.makedirs('./COVID19-DATASET/train/normal')\n",
        "\n",
        "COVID_PATH = './COVID19-DATASET/train/covid19'\n",
        "NORMAL_PATH = './COVID19-DATASET/train/normal'\n",
        "\n",
        "for image in images:\n",
        "    shutil.copy(os.path.join('./covid-chestxray-dataset/images', image), os.path.join(COVID_PATH, image))\n",
        "\n",
        "for image in os.listdir('/content/d/dd/chest_xray/train/NORMAL')[:300]:\n",
        "    shutil.copy(os.path.join('/content/d/dd/chest_xray/train/NORMAL', image), os.path.join(NORMAL_PATH, image))\n",
        "\n",
        "DATA_PATH = './COVID19-DATASET/train'"
      ],
      "metadata": {
        "id": "-8ouKrWW4fDA"
      },
      "execution_count": 6,
      "outputs": []
    },
    {
      "cell_type": "code",
      "source": [
        "!git clone https://github.com/Michaeltaoma/SecureCovid.git"
      ],
      "metadata": {
        "colab": {
          "base_uri": "https://localhost:8080/"
        },
        "id": "UlL2Dnp6408W",
        "outputId": "3027954f-8dbf-42b4-c815-53b9d98f226c"
      },
      "execution_count": 7,
      "outputs": [
        {
          "output_type": "stream",
          "name": "stdout",
          "text": [
            "Cloning into 'SecureCovid'...\n",
            "remote: Enumerating objects: 65, done.\u001b[K\n",
            "remote: Counting objects: 100% (65/65), done.\u001b[K\n",
            "remote: Compressing objects: 100% (44/44), done.\u001b[K\n",
            "remote: Total 65 (delta 26), reused 48 (delta 15), pack-reused 0\u001b[K\n",
            "Unpacking objects: 100% (65/65), done.\n"
          ]
        }
      ]
    },
    {
      "cell_type": "code",
      "source": [
        "%cd SecureCovid"
      ],
      "metadata": {
        "colab": {
          "base_uri": "https://localhost:8080/"
        },
        "id": "SeRnNQkF_x12",
        "outputId": "88071728-0b42-418b-9111-09ab41a7bff7"
      },
      "execution_count": 8,
      "outputs": [
        {
          "output_type": "stream",
          "name": "stdout",
          "text": [
            "/content/SecureCovid\n"
          ]
        }
      ]
    },
    {
      "cell_type": "code",
      "source": [
        "!git checkout dev"
      ],
      "metadata": {
        "colab": {
          "base_uri": "https://localhost:8080/"
        },
        "id": "-s7ZdNsk_169",
        "outputId": "9a3ae428-6b81-46cd-9d6b-811664d972ba"
      },
      "execution_count": 9,
      "outputs": [
        {
          "output_type": "stream",
          "name": "stdout",
          "text": [
            "Branch 'dev' set up to track remote branch 'dev' from 'origin'.\n",
            "Switched to a new branch 'dev'\n"
          ]
        }
      ]
    },
    {
      "cell_type": "code",
      "source": [
        "!ls"
      ],
      "metadata": {
        "colab": {
          "base_uri": "https://localhost:8080/"
        },
        "id": "4SH6aR3i_4o5",
        "outputId": "ad5ae3c1-0ff8-4aa6-803b-8e67315e5352"
      },
      "execution_count": 18,
      "outputs": [
        {
          "output_type": "stream",
          "name": "stdout",
          "text": [
            "data\t main.py  preprocess.py  requirements.txt  util.py\n",
            "LICENSE  model\t  README.md\t train.py\n"
          ]
        }
      ]
    },
    {
      "cell_type": "code",
      "source": [
        "!python main.py"
      ],
      "metadata": {
        "colab": {
          "base_uri": "https://localhost:8080/"
        },
        "id": "O78BJuMX_7te",
        "outputId": "d125e43c-2ab4-4510-9280-d07fbcf8c92e"
      },
      "execution_count": 10,
      "outputs": [
        {
          "output_type": "stream",
          "name": "stdout",
          "text": [
            "Training on GPU... Ready for HyperJump...\n",
            "Downloading: \"https://download.pytorch.org/models/densenet121-a639ec97.pth\" to /root/.cache/torch/hub/checkpoints/densenet121-a639ec97.pth\n",
            "100% 30.8M/30.8M [00:00<00:00, 194MB/s]\n",
            "Epoch 1/10\n",
            "----------\n",
            "train:   0%|          | 0/65 [00:00<?, ?it/s]\n",
            "train Loss: 0.1547 | train Accuracy: 0.9533\n",
            "val:   0%|          | 0/16 [00:00<?, ?it/s]\n",
            "val Loss: 0.1650 | val Accuracy: 0.9531 | Kappa Score: 0.9115\n",
            "Val loss Decreased from inf to 0.1650 \n",
            "Saving Weights... \n",
            "\n",
            "Epoch 2/10\n",
            "----------\n",
            "train:   0%|          | 0/65 [00:00<?, ?it/s]\n",
            "train Loss: 0.1390 | train Accuracy: 0.9553\n",
            "val:   0%|          | 0/16 [00:00<?, ?it/s]\n",
            "val Loss: 0.2233 | val Accuracy: 0.9375 | Kappa Score: 0.8612\n",
            "\n",
            "Epoch 3/10\n",
            "----------\n",
            "train:   0%|          | 0/65 [00:00<?, ?it/s]\n",
            "train Loss: 0.1114 | train Accuracy: 0.9572\n",
            "val:   0%|          | 0/16 [00:00<?, ?it/s]\n",
            "val Loss: 0.2432 | val Accuracy: 0.9375 | Kappa Score: 0.8612\n",
            "\n",
            "Epoch 4/10\n",
            "----------\n",
            "train:   0%|          | 0/65 [00:00<?, ?it/s]\n",
            "train Loss: 0.1736 | train Accuracy: 0.9397\n",
            "val:   0%|          | 0/16 [00:00<?, ?it/s]\n",
            "val Loss: 0.1284 | val Accuracy: 0.9375 | Kappa Score: 0.8685\n",
            "Val loss Decreased from 0.1650 to 0.1284 \n",
            "Saving Weights... \n",
            "\n",
            "Epoch 5/10\n",
            "----------\n",
            "train:   0%|          | 0/65 [00:00<?, ?it/s]\n",
            "train Loss: 0.1120 | train Accuracy: 0.9611\n",
            "val:   0%|          | 0/16 [00:00<?, ?it/s]\n",
            "val Loss: 0.1526 | val Accuracy: 0.9453 | Kappa Score: 0.8880\n",
            "\n",
            "Epoch 6/10\n",
            "----------\n",
            "train:   0%|          | 0/65 [00:00<?, ?it/s]\n",
            "train Loss: 0.1087 | train Accuracy: 0.9650\n",
            "val:   0%|          | 0/16 [00:00<?, ?it/s]\n",
            "val Loss: 0.2396 | val Accuracy: 0.9453 | Kappa Score: 0.8858\n",
            "\n",
            "Epoch 7/10\n",
            "----------\n",
            "train:   0%|          | 0/65 [00:00<?, ?it/s]\n",
            "train Loss: 0.1569 | train Accuracy: 0.9494\n",
            "val:   0%|          | 0/16 [00:00<?, ?it/s]\n",
            "val Loss: 0.1471 | val Accuracy: 0.9453 | Kappa Score: 0.8915\n",
            "\n",
            "Epoch 8/10\n",
            "----------\n",
            "train:   0%|          | 0/65 [00:00<?, ?it/s]\n",
            "train Loss: 0.1424 | train Accuracy: 0.9553\n",
            "val:   0%|          | 0/16 [00:00<?, ?it/s]\n",
            "/usr/local/lib/python3.7/dist-packages/sklearn/metrics/_classification.py:663: RuntimeWarning: invalid value encountered in true_divide\n",
            "  k = np.sum(w_mat * confusion) / np.sum(w_mat * expected)\n",
            "val Loss: 0.2287 | val Accuracy: 0.9375 | Kappa Score: nan\n",
            "\n",
            "Epoch 9/10\n",
            "----------\n",
            "train:   0%|          | 0/65 [00:00<?, ?it/s]\n",
            "train Loss: 0.1203 | train Accuracy: 0.9572\n",
            "val:   0%|          | 0/16 [00:00<?, ?it/s]\n",
            "val Loss: 0.2116 | val Accuracy: 0.9453 | Kappa Score: 0.8746\n",
            "\n",
            "Epoch 10/10\n",
            "----------\n",
            "train:   0%|          | 0/65 [00:00<?, ?it/s]\n",
            "train Loss: 0.1403 | train Accuracy: 0.9397\n",
            "val:   0%|          | 0/16 [00:00<?, ?it/s]\n",
            "val Loss: 0.1410 | val Accuracy: 0.9375 | Kappa Score: 0.8612\n",
            "\n",
            "Training complete in 4m 37s\n",
            "Best val loss: 0.1284\n"
          ]
        }
      ]
    },
    {
      "cell_type": "code",
      "source": [
        ""
      ],
      "metadata": {
        "id": "xQn31Pvs_-wQ"
      },
      "execution_count": null,
      "outputs": []
    }
  ]
}